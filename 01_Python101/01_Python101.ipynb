{
 "cells": [
  {
   "attachments": {},
   "cell_type": "markdown",
   "metadata": {},
   "source": [
    "#  Python 101\n",
    "\n",
    "*HFT Stuttgart, 2024 Summer Term, Michael Mommert (michael.mommert@hft-stuttgart.de)*\n",
    "\n",
    "This Jupyter Notebook provides a simple introduction into Python programming and is based on Notebooks prepared by the amazing Dr. Marco Schreyer."
   ]
  },
  {
   "cell_type": "markdown",
   "metadata": {},
   "source": [
    "## Jupyter Notebooks\n",
    "\n",
    "Jupyter Notebooks are files that contain both programming code and human-readable text. They run on a **server** - either locally or in the cloud - allowing different users to access and use a pre-defined programming environment with pre-installed modules and packages. \n",
    "\n",
    "We will use Jupyter Notebooks with a **Python kernel**, meaning that our Notebooks will utilize the Python programming language. However, Notebooks can be utilized with a wide range of programming languages.\n",
    "\n",
    "The main advantage of Jupyter Notebooks is their unique character that mixes code elements with extensive documentation. This combination utilizes the concept of **cells** that either contain static content (like markdown text or other media) or code. The nature of a cell can be chosen from the corresponding menu (depends on the interface you are using)."
   ]
  },
  {
   "cell_type": "markdown",
   "metadata": {},
   "source": [
    "### Cells"
   ]
  },
  {
   "cell_type": "markdown",
   "metadata": {},
   "source": [
    "This very cell is a **markdown cell**. It only contains static text. You can modify the text by clicking into this cell (maybe twice, depending on the interface that you are using). Once you're done, \"run\" the cell by clicking the correponding button or by hitting `shift`+`enter` to render the output."
   ]
  },
  {
   "cell_type": "markdown",
   "metadata": {},
   "source": [
    "The following cell is a **code cell** that contains Python code. To evaluate a code cell, hit the \"run\" button or press `shift`+`enter` on your keyboard. Evaluating a cell evaluates each line of code in sequence, and prints the result of the last line (if any) below the cell."
   ]
  },
  {
   "cell_type": "code",
   "execution_count": null,
   "metadata": {},
   "outputs": [],
   "source": [
    "40 + 2"
   ]
  },
  {
   "cell_type": "markdown",
   "metadata": {},
   "source": [
    "A code cell can contain several lines of code, but keep in mind that only the result of the last line will be displayed."
   ]
  },
  {
   "cell_type": "code",
   "execution_count": null,
   "metadata": {},
   "outputs": [],
   "source": [
    "2 + 2\n",
    "3 + 3"
   ]
  },
  {
   "cell_type": "markdown",
   "metadata": {},
   "source": [
    "However, you can print any number of lines by using the `print` function."
   ]
  },
  {
   "cell_type": "code",
   "execution_count": null,
   "metadata": {},
   "outputs": [],
   "source": [
    "print(2 + 2)\n",
    "3 + 3"
   ]
  },
  {
   "cell_type": "markdown",
   "metadata": {},
   "source": [
    "### How to Save a Notebook?"
   ]
  },
  {
   "cell_type": "markdown",
   "metadata": {},
   "source": [
    "Notebooks can be easily saved (`File/Save as`) locally or, depending on the interface you are using, into the cloud. Additionally, Notebooks can also be downloaded (`File/Download as`) as plain Python scripts, PDFs, and a wide range of other file formats."
   ]
  },
  {
   "cell_type": "markdown",
   "metadata": {},
   "source": [
    "# Python Programming \n",
    "\n",
    "This section will provide an introduction into Python programming, starting with the very basics:\n",
    "\n",
    "1. [the very basics: code, variables and functions](#basics)\n",
    "2. [basic data types: integers, floats, booleans, strings](#datatypes)\n",
    "3. [containers: lists and dictionaries](#containes)\n",
    "4. [fundamental programming structures: loops and decision structures](#programmingstructures)\n",
    "5. [Python functions](#functions)\n",
    "6. [importing Python modules](#modules)\n",
    "7. [Python classes](#classes)\n"
   ]
  },
  {
   "cell_type": "markdown",
   "metadata": {},
   "source": [
    "## 1. The very basics\n",
    "<a id='basics'></a>\n",
    "\n",
    "Writing Python **code** is as simple as writing text. \n",
    "\n",
    "Let's start with the typical Hello-World example:"
   ]
  },
  {
   "cell_type": "code",
   "execution_count": null,
   "metadata": {},
   "outputs": [],
   "source": [
    "print('hello world!') "
   ]
  },
  {
   "cell_type": "markdown",
   "metadata": {},
   "source": [
    "This code cell consists of a **function** call to the `print` function, which contains one **argument** (`'hello world!'`). The purpose of the `print` function is to print the argument on the screen. \n",
    "\n",
    "In order to support more or less complex calculations, Python supports **variables** to which values can be assigned:"
   ]
  },
  {
   "cell_type": "code",
   "execution_count": null,
   "metadata": {},
   "outputs": [],
   "source": [
    "a = 3"
   ]
  },
  {
   "cell_type": "markdown",
   "metadata": {},
   "source": [
    "The value of **object** `b` is now 3; whenever the variable is evaluated, it is replaced by this value:"
   ]
  },
  {
   "cell_type": "code",
   "execution_count": null,
   "metadata": {},
   "outputs": [],
   "source": [
    "a"
   ]
  },
  {
   "cell_type": "markdown",
   "metadata": {},
   "source": [
    "This can be exploited for mathematical expressions:"
   ]
  },
  {
   "cell_type": "code",
   "execution_count": null,
   "metadata": {},
   "outputs": [],
   "source": [
    "a + 1"
   ]
  },
  {
   "cell_type": "markdown",
   "metadata": {},
   "source": [
    "But note that the value of `a` does not change:"
   ]
  },
  {
   "cell_type": "code",
   "execution_count": null,
   "metadata": {},
   "outputs": [],
   "source": [
    "a"
   ]
  },
  {
   "cell_type": "markdown",
   "metadata": {},
   "source": [
    "The value of `a` only changes when `=` is involved"
   ]
  },
  {
   "cell_type": "code",
   "execution_count": null,
   "metadata": {},
   "outputs": [],
   "source": [
    "a = a + 1"
   ]
  },
  {
   "cell_type": "code",
   "execution_count": null,
   "metadata": {},
   "outputs": [],
   "source": [
    "a"
   ]
  },
  {
   "cell_type": "markdown",
   "metadata": {},
   "source": [
    "#### Comments\n",
    "\n",
    "The `#` character has a special meaning in Python. Whenever it appears, all following characters on the same line are considered a comment and are ignored. You can use comments to explain what certain parts of your code do."
   ]
  },
  {
   "cell_type": "code",
   "execution_count": null,
   "metadata": {},
   "outputs": [],
   "source": [
    "# this is a comment"
   ]
  },
  {
   "cell_type": "code",
   "execution_count": null,
   "metadata": {},
   "outputs": [],
   "source": [
    "print(1) # comments can be on the same line as code, too"
   ]
  },
  {
   "cell_type": "markdown",
   "metadata": {
    "id": "4hlk6IuZAhr9"
   },
   "source": [
    "## 2. Fundamental Python Data Types\n",
    "<a id='datatypes'></a>"
   ]
  },
  {
   "cell_type": "markdown",
   "metadata": {
    "id": "kGC27WsnAhr9"
   },
   "source": [
    "In general, a data type defines the format, sets the upper and lower bounds of the data so that a program could use it appropriately. However, **Python data types** are more than that. In Python, we do not need to declare a variable by explicitly defining its data type. This feature is famously known as **dynamic typing**."
   ]
  },
  {
   "cell_type": "markdown",
   "metadata": {
    "id": "I_Sdc2hCAhr9"
   },
   "source": [
    "Python determines the type of a literal (an element of code that has a fixed value) directly from the syntax at **runtime**. For example, the quotes mark the declaration of a string value, square brackets represent a list and curly brackets for a dictionary. Also, the non-decimal numbers will get assigned to Integer type whereas the ones with a decimal point will be a float."
   ]
  },
  {
   "cell_type": "markdown",
   "metadata": {
    "id": "3etc1a-UAhr9"
   },
   "source": [
    "There are four basic data types in the Python programming language:\n",
    "\n",
    "> * **Integer's** - represent positive or negative whole numbers with no decimal point.\n",
    "> * **Float's** - represent positive or negative real numbers and are written with a decimal point.\n",
    "> * **String's** - represent sequences of Unicode characters.\n",
    "> * **Boolean's** - represent constant objects that are either 'False' and 'True'. "
   ]
  },
  {
   "cell_type": "markdown",
   "metadata": {
    "id": "xUWah-KXAhr9"
   },
   "source": [
    "### Numerical Data Type \"Integer\""
   ]
  },
  {
   "cell_type": "markdown",
   "metadata": {
    "id": "gpsXfiWeAhr9"
   },
   "source": [
    "Whole numbers are one of the most prominent Python data types. Whole numbers in Python are often called just **integers** or **ints** and are positive or negative whole numbers with no decimal point. "
   ]
  },
  {
   "cell_type": "code",
   "execution_count": null,
   "metadata": {
    "id": "2KWVklmeAhr9"
   },
   "outputs": [],
   "source": [
    "x = 3\n",
    "x"
   ]
  },
  {
   "cell_type": "markdown",
   "metadata": {
    "id": "TpBAAs5DAhr-"
   },
   "source": [
    "Print the variable type:"
   ]
  },
  {
   "cell_type": "code",
   "execution_count": null,
   "metadata": {
    "id": "_FPHU3tUAhr-"
   },
   "outputs": [],
   "source": [
    "type(x)"
   ]
  },
  {
   "cell_type": "markdown",
   "metadata": {
    "id": "KaCCn1B_Ahr-"
   },
   "source": [
    "Basic mathematical operations:"
   ]
  },
  {
   "cell_type": "code",
   "execution_count": null,
   "metadata": {
    "id": "darB8tgDAhr-"
   },
   "outputs": [],
   "source": [
    "print(x + 1)   # addition\n",
    "print(x - 1)   # subtraction\n",
    "print(x * 2)   # multiplication\n",
    "print(x ** 2)  # exponentiation "
   ]
  },
  {
   "cell_type": "markdown",
   "metadata": {
    "id": "fdbS7tnRAhr-"
   },
   "source": [
    "Note that `x` still has the same value after these operations. This is due to the fact that we did not assign a new value to this variable. We can change its value by combining the two notations that we used above:"
   ]
  },
  {
   "cell_type": "code",
   "execution_count": null,
   "metadata": {
    "id": "WByN-ov2Ahr-"
   },
   "outputs": [],
   "source": [
    "print(x, 'original value')\n",
    "x = x + 1\n",
    "print(x, 'after adding 1')\n",
    "x = x * 2\n",
    "print(x, 'after multiplying with 2')\n",
    "x = x - 5\n",
    "print(x, 'after subtracting 5')"
   ]
  },
  {
   "cell_type": "markdown",
   "metadata": {
    "id": "m3yXtk1zAhr-"
   },
   "source": [
    "Here are some shortcuts for basic operations combined with value assignment:"
   ]
  },
  {
   "cell_type": "code",
   "execution_count": null,
   "metadata": {
    "id": "xnbVyfnjAhr-"
   },
   "outputs": [],
   "source": [
    "x += 1\n",
    "print(x) \n",
    "x *= 2\n",
    "print(x)"
   ]
  },
  {
   "cell_type": "markdown",
   "metadata": {
    "id": "NaxUKPB5Ahr-"
   },
   "source": [
    "### Numerical Data Type \"Float\""
   ]
  },
  {
   "cell_type": "markdown",
   "metadata": {
    "id": "RvEFVczLAhr-"
   },
   "source": [
    "The **float** type in Python represents real numbers and are written with a decimal point dividing the integer and fractional parts. As a result, float values are specified with a decimal point and are often called just **'floats'**.\n",
    "\n",
    "A float type number can have precision up to **15 decimal places**:"
   ]
  },
  {
   "cell_type": "code",
   "execution_count": null,
   "metadata": {
    "id": "XtIeuLuCAhr-"
   },
   "outputs": [],
   "source": [
    "y = 3.0\n",
    "print(y)"
   ]
  },
  {
   "cell_type": "markdown",
   "metadata": {
    "id": "bvB3W2DuAhr-"
   },
   "source": [
    "Print the variable type:"
   ]
  },
  {
   "cell_type": "code",
   "execution_count": null,
   "metadata": {
    "id": "UAf9ZSBdAhr-"
   },
   "outputs": [],
   "source": [
    "type(y)"
   ]
  },
  {
   "cell_type": "markdown",
   "metadata": {
    "id": "f7roGf_TAhr-"
   },
   "source": [
    "Basic mathematical operations:"
   ]
  },
  {
   "cell_type": "code",
   "execution_count": null,
   "metadata": {
    "id": "qWek_fb6Ahr-"
   },
   "outputs": [],
   "source": [
    "print(y + 1)   # addition\n",
    "print(y - 1)   # subtraction\n",
    "print(y * 2)   # multiplication\n",
    "print(y ** 2)  # exponentation"
   ]
  },
  {
   "cell_type": "markdown",
   "metadata": {
    "id": "h8i6xfnaAhr-"
   },
   "source": [
    "### Non-Numerical Data Type \"String\""
   ]
  },
  {
   "cell_type": "markdown",
   "metadata": {
    "id": "iz5xnvarAhr-"
   },
   "source": [
    "A sequence of one or more characters enclosed within either single quotes `'` or double quotes `\"` is considered as a **string** in Python. Any letter, a number or a symbol could be a part of the string. All the characters between the opening delimiter and matching closing delimiter are part of the string:"
   ]
  },
  {
   "cell_type": "code",
   "execution_count": null,
   "metadata": {
    "id": "s6DTT6qNAhr-"
   },
   "outputs": [],
   "source": [
    "hello = 'hello'    # string literals can use single quotes\n",
    "hello2 = \"gruezi\"  # or double quotes; it does not matter.\n",
    "print(hello)"
   ]
  },
  {
   "cell_type": "markdown",
   "metadata": {
    "id": "umpjULcKAhr-"
   },
   "source": [
    "Print the variable type:"
   ]
  },
  {
   "cell_type": "code",
   "execution_count": null,
   "metadata": {
    "id": "F6yrWc1hAhr-"
   },
   "outputs": [],
   "source": [
    "type(hello)"
   ]
  },
  {
   "cell_type": "markdown",
   "metadata": {
    "id": "sAEpANuFAhr-"
   },
   "source": [
    "Print the length of each string in terms of a number of characters:"
   ]
  },
  {
   "cell_type": "code",
   "execution_count": null,
   "metadata": {
    "id": "xle40UhVAhr-"
   },
   "outputs": [],
   "source": [
    "print(len(hello))\n",
    "print(len(hello2))"
   ]
  },
  {
   "cell_type": "markdown",
   "metadata": {
    "id": "TjT5t9KuAhr_"
   },
   "source": [
    "Like most programming languages, Python allows accessing individual characters of a string based on their \"index\", which indicates the position in the string. \n",
    "\n",
    "**Important Python Rule No. 1: Python starts counting indices at 0.**\n",
    "\n",
    "The index of the first character is 0, the index of the second character is 1, and so on. Reaching the end of a string seems tedious? Not really, since Python also supports negative indexes. Index -1 represents the last character of the String. Similarly using -2, we can access the penultimate character of the string and so on:"
   ]
  },
  {
   "cell_type": "code",
   "execution_count": null,
   "metadata": {
    "id": "Qrbxn0zUAhr_"
   },
   "outputs": [],
   "source": [
    "print('first character:', hello[0])   \n",
    "print('third character:', hello[2])   \n",
    "print('last character:', hello[-1])   \n",
    "print('penulminate character:', hello[-2])   "
   ]
  },
  {
   "cell_type": "markdown",
   "metadata": {
    "id": "-4CtNNh3Ahr_"
   },
   "source": [
    "Concatenate two strings by \"adding\" them:"
   ]
  },
  {
   "cell_type": "code",
   "execution_count": null,
   "metadata": {
    "id": "37TZkrLHAhr_"
   },
   "outputs": [],
   "source": [
    "hello + '_' + hello2 + ' and guten tag' \n"
   ]
  },
  {
   "cell_type": "markdown",
   "metadata": {
    "id": "fhTpE7vWAhr_"
   },
   "source": [
    "String objects have a bunch of useful methods; for example:"
   ]
  },
  {
   "cell_type": "code",
   "execution_count": null,
   "metadata": {
    "id": "Y-CMRkieAhr_"
   },
   "outputs": [],
   "source": [
    "s = \"hello\"                     # init string variable\n",
    "print(s.capitalize())           # capitalize a string; prints \"Hello\"\n",
    "print(s.upper())                # convert a string to uppercase; prints \"HELLO\"\n",
    "print(s.rjust(7))               # right-justify a string, padding with spaces; prints \"  hello\"\n",
    "print(s.center(7))              # center a string, padding with spaces; prints \" hello \"\n",
    "print(s.replace('l', '(ell)'))  # replace all instances of one substring with another;"
   ]
  },
  {
   "cell_type": "markdown",
   "metadata": {},
   "source": [
    "Strings can be formatted automatically, e.g., consider the following example of printing the temperature:"
   ]
  },
  {
   "cell_type": "code",
   "execution_count": null,
   "metadata": {},
   "outputs": [],
   "source": [
    "temp = 12.1\n",
    "\n",
    "print(\"The current temperature is {}.\".format(temp))"
   ]
  },
  {
   "cell_type": "markdown",
   "metadata": {
    "id": "mLTPXEkRAhr_"
   },
   "source": [
    "### Non-Numerical Data Type \"boolean\""
   ]
  },
  {
   "cell_type": "markdown",
   "metadata": {
    "id": "9rBSDo72Ahr_"
   },
   "source": [
    "Python provides a Boolean data type. Objects of type boolean type may have one of two values, \"True\" or \"False\":"
   ]
  },
  {
   "cell_type": "code",
   "execution_count": null,
   "metadata": {
    "id": "pnGl-y-YAhr_"
   },
   "outputs": [],
   "source": [
    "a = True\n",
    "b = False\n",
    "print(a)\n",
    "print(b)"
   ]
  },
  {
   "cell_type": "markdown",
   "metadata": {
    "id": "qDwZYNYFAhr_"
   },
   "source": [
    "Print the variable type:"
   ]
  },
  {
   "cell_type": "code",
   "execution_count": null,
   "metadata": {
    "id": "AgcibAXUAhsA"
   },
   "outputs": [],
   "source": [
    "type(a)"
   ]
  },
  {
   "cell_type": "markdown",
   "metadata": {
    "id": "e5-q0QRpAhsA"
   },
   "source": [
    "Booleans are often used in Python to test conditions or constraints. For example, a string in Python can be tested for truth value. The return type will be then a Boolean value (True or False). Let’s have a look at a few examples:"
   ]
  },
  {
   "cell_type": "code",
   "execution_count": null,
   "metadata": {},
   "outputs": [],
   "source": [
    "2 > 1  # read: is 2 greater than 1?"
   ]
  },
  {
   "cell_type": "code",
   "execution_count": null,
   "metadata": {},
   "outputs": [],
   "source": [
    "1 > 2  # read: is 1 greater than 2?"
   ]
  },
  {
   "cell_type": "code",
   "execution_count": null,
   "metadata": {},
   "outputs": [],
   "source": [
    "1 == 2  # read: is 1 equal to 2?"
   ]
  },
  {
   "cell_type": "markdown",
   "metadata": {},
   "source": [
    "Methods can return booleans, too:"
   ]
  },
  {
   "cell_type": "code",
   "execution_count": null,
   "metadata": {
    "id": "4P7rzjbhAhsA"
   },
   "outputs": [],
   "source": [
    "s1 = 'This is a test string.'\n",
    "result_upper = s1.isupper()        # test if string contains only upper case characters\n",
    "print(result_upper)"
   ]
  },
  {
   "cell_type": "markdown",
   "metadata": {
    "id": "NCt2v7X7AhsA"
   },
   "source": [
    "We can even logically combine the tested conditions above:"
   ]
  },
  {
   "cell_type": "code",
   "execution_count": null,
   "metadata": {
    "id": "kuZZwqeSAhsA"
   },
   "outputs": [],
   "source": [
    "print(a and b)               # Logical AND; prints \"False\"\n",
    "print(a or b)                # Logical OR; prints \"True\"\n",
    "print(a and result_upper)    # Logical AND; prints \"True\"\n",
    "print(not a)                 # Logical NOT; prints \"False\"\n",
    "print(a != b)                # Logical XOR; prints \"True\""
   ]
  },
  {
   "cell_type": "markdown",
   "metadata": {
    "id": "gAktEvEHAhsB"
   },
   "source": [
    "## 3. Fundamental Python Data Containers\n",
    "<a id='containers'></a>"
   ]
  },
  {
   "cell_type": "markdown",
   "metadata": {
    "id": "oXL3MIogAhsB"
   },
   "source": [
    "Container data types allow for storing more complex data. There are four main container data types in Python:\n",
    "\n",
    "> * **List** - is a collection which is ordered and changeable. Allows duplicate members.\n",
    "> * **Tuple** - is a collection which is ordered and unchangeable. Allows duplicate members.\n",
    "> * **Dictionary** - is a collection which is unordered, changeable and indexed. No duplicate members."
   ]
  },
  {
   "cell_type": "markdown",
   "metadata": {
    "id": "_pdB4n_0AhsB"
   },
   "source": [
    "### Data Container \"List\""
   ]
  },
  {
   "cell_type": "markdown",
   "metadata": {
    "id": "roWncLMJAhsB"
   },
   "source": [
    "A list is a collection of basic Python data types in which \"elements\" are ordered in a mutable (elements can be changed) sequence.\n",
    "\n",
    "In Python, lists are written with square brackets. Python lists allow duplicate elements, are resizeable and can contain elements of different data types. Lists can be initialized like this:"
   ]
  },
  {
   "cell_type": "code",
   "execution_count": 31,
   "metadata": {},
   "outputs": [
    {
     "data": {
      "text/plain": [
       "[42, 5, 128, 5, 97, 208]"
      ]
     },
     "execution_count": 31,
     "metadata": {},
     "output_type": "execute_result"
    }
   ],
   "source": [
    "l = [42, 5, 128, 5, 97, 208]\n",
    "l                       "
   ]
  },
  {
   "cell_type": "markdown",
   "metadata": {},
   "source": [
    "Similarly to strings, list elements can accessed using the same square-bracket formalism (keep in mind our Import Python Rule No. 1):"
   ]
  },
  {
   "cell_type": "code",
   "execution_count": 32,
   "metadata": {},
   "outputs": [
    {
     "name": "stdout",
     "output_type": "stream",
     "text": [
      "first element: 42\n",
      "third element: 128\n",
      "last element: 208\n",
      "penultimate element: 97\n"
     ]
    }
   ],
   "source": [
    "print('first element:', l[0])\n",
    "print('third element:', l[2])\n",
    "print('last element:', l[-1])\n",
    "print('penultimate element:', l[-2])"
   ]
  },
  {
   "cell_type": "markdown",
   "metadata": {
    "id": "EyJOQCk_AhsB"
   },
   "source": [
    "(This parallelism to strings is not by accident: strings are simply implemented as lists of characters in Python.) "
   ]
  },
  {
   "cell_type": "markdown",
   "metadata": {
    "id": "YwuSfBVAAhsB"
   },
   "source": [
    "Lists are their own variable type:"
   ]
  },
  {
   "cell_type": "code",
   "execution_count": 33,
   "metadata": {
    "id": "6tYjOue2AhsB"
   },
   "outputs": [
    {
     "data": {
      "text/plain": [
       "list"
      ]
     },
     "execution_count": 33,
     "metadata": {},
     "output_type": "execute_result"
    }
   ],
   "source": [
    "type(l)"
   ]
  },
  {
   "cell_type": "markdown",
   "metadata": {
    "id": "dTF6z3PPAhsC"
   },
   "source": [
    "Determine the total number of list elements:"
   ]
  },
  {
   "cell_type": "code",
   "execution_count": 34,
   "metadata": {
    "id": "Jabb09G9AhsC"
   },
   "outputs": [
    {
     "data": {
      "text/plain": [
       "6"
      ]
     },
     "execution_count": 34,
     "metadata": {},
     "output_type": "execute_result"
    }
   ],
   "source": [
    "len(l)"
   ]
  },
  {
   "cell_type": "markdown",
   "metadata": {
    "id": "umyLNivhAhsC"
   },
   "source": [
    "Replace a list element by assigning a new value (and new data type!) at a specific index:"
   ]
  },
  {
   "cell_type": "code",
   "execution_count": 36,
   "metadata": {
    "id": "w-QLB8TEAhsC"
   },
   "outputs": [
    {
     "data": {
      "text/plain": [
       "[42, 5, 'happy', 5, 97, 208]"
      ]
     },
     "execution_count": 36,
     "metadata": {},
     "output_type": "execute_result"
    }
   ],
   "source": [
    "l[2] = 'happy'\n",
    "l"
   ]
  },
  {
   "cell_type": "markdown",
   "metadata": {
    "id": "pvjIVfOEAhsC"
   },
   "source": [
    "Append an element to the end of a list:"
   ]
  },
  {
   "cell_type": "code",
   "execution_count": 42,
   "metadata": {
    "id": "oohToEtaAhsC"
   },
   "outputs": [
    {
     "data": {
      "text/plain": [
       "[0, 1, 2, 3, 4, 'coding']"
      ]
     },
     "execution_count": 42,
     "metadata": {},
     "output_type": "execute_result"
    }
   ],
   "source": [
    "l.append('coding')\n",
    "l"
   ]
  },
  {
   "cell_type": "markdown",
   "metadata": {
    "id": "j0lF8PxpAhsC"
   },
   "source": [
    "Create a list of ascending integer numbers:"
   ]
  },
  {
   "cell_type": "code",
   "execution_count": 43,
   "metadata": {
    "id": "gogk0tbAAhsC"
   },
   "outputs": [
    {
     "data": {
      "text/plain": [
       "[0, 1, 2, 3, 4]"
      ]
     },
     "execution_count": 43,
     "metadata": {},
     "output_type": "execute_result"
    }
   ],
   "source": [
    "l = list(range(5)) \n",
    "l    "
   ]
  },
  {
   "cell_type": "markdown",
   "metadata": {
    "id": "U8zlgAe7AhsC"
   },
   "source": [
    "Slice list using distinct indexing techniques:"
   ]
  },
  {
   "cell_type": "code",
   "execution_count": 41,
   "metadata": {
    "id": "tHMaNkVjAhsC"
   },
   "outputs": [
    {
     "name": "stdout",
     "output_type": "stream",
     "text": [
      "[2, 3]\n",
      "[2, 3, 4]\n",
      "[0, 1]\n",
      "[0, 1, 2, 3, 4]\n",
      "[0, 1, 2, 3]\n",
      "[4, 3, 2, 1, 0]\n"
     ]
    }
   ],
   "source": [
    "print(l[2:4])    # get a slice from index 2 to 4 (exclusive); prints \"[2, 3]\"\n",
    "print(l[2:])     # get a slice from index 2 to the end; prints \"[2, 3, 4]\"\n",
    "print(l[:2])     # get a slice from the start to index 2 (exclusive); prints \"[0, 1]\"\n",
    "print(l[:])      # get a slice of the whole list; prints [\"0, 1, 2, 3, 4]\"\n",
    "print(l[:-1])    # slice indices can be negative; prints [\"0, 1, 2, 3]\"\n",
    "print(l[::-1])   # you can also modify the step size and reverse the list"
   ]
  },
  {
   "cell_type": "markdown",
   "metadata": {
    "id": "AGOhPrZqAhsC"
   },
   "source": [
    "We can also replace a slice of list elements:"
   ]
  },
  {
   "cell_type": "code",
   "execution_count": 44,
   "metadata": {
    "id": "FyLbZ9ZJAhsC"
   },
   "outputs": [
    {
     "name": "stdout",
     "output_type": "stream",
     "text": [
      "[0, 1, 8, 9, 4]\n"
     ]
    }
   ],
   "source": [
    "l[2:4] = [8, 9] \n",
    "print(l)  "
   ]
  },
  {
   "cell_type": "markdown",
   "metadata": {},
   "source": [
    "### Intermezzo: Tuples\n",
    "\n",
    "Tuples are basically immutable lists. They utilize parentheses instead of square brackets:"
   ]
  },
  {
   "cell_type": "code",
   "execution_count": null,
   "metadata": {},
   "outputs": [],
   "source": [
    "t = (1, \"test\", 56)\n",
    "t"
   ]
  },
  {
   "cell_type": "markdown",
   "metadata": {},
   "source": [
    "Most list functions also work on tuples:"
   ]
  },
  {
   "cell_type": "code",
   "execution_count": null,
   "metadata": {},
   "outputs": [],
   "source": [
    "len(t)"
   ]
  },
  {
   "cell_type": "markdown",
   "metadata": {},
   "source": [
    "But keep in mind that tuples cannot be modified:"
   ]
  },
  {
   "cell_type": "code",
   "execution_count": null,
   "metadata": {},
   "outputs": [],
   "source": [
    "#t[0] = 5"
   ]
  },
  {
   "cell_type": "markdown",
   "metadata": {
    "id": "K6iNqlsmAhsC"
   },
   "source": [
    "### Data Container \"Dictionary\""
   ]
  },
  {
   "cell_type": "markdown",
   "metadata": {
    "id": "ZnJh3nevAhsD"
   },
   "source": [
    "In Python, dictionaries are used to store associations similar to actual dictionaries that, e.g., translate between two different languages.\n",
    "\n",
    "A dictionary is a collection of basic Python data types in which \"items\" consist of (key, value) pairs that are unordered, mutable and indexed. Every key is only allowed once in the dictionary (since it is indexed), but the same value can occur many times. Dictionaries are written with curly brackets and  can be initialized like this:"
   ]
  },
  {
   "cell_type": "code",
   "execution_count": 45,
   "metadata": {
    "id": "JhAXqzKDAhsD"
   },
   "outputs": [
    {
     "data": {
      "text/plain": [
       "{'cat': 'Katze', 'flower': 'Blume', 'house': 'Haus', 'owl': 'Eule'}"
      ]
     },
     "execution_count": 45,
     "metadata": {},
     "output_type": "execute_result"
    }
   ],
   "source": [
    "d = {'cat': 'Katze', 'flower': 'Blume', 'house': 'Haus', 'owl': 'Eule'}\n",
    "d"
   ]
  },
  {
   "cell_type": "markdown",
   "metadata": {
    "id": "iqSkgP0lAhsD"
   },
   "source": [
    "Retrieve and print the value corresponding to the key \"cat\":"
   ]
  },
  {
   "cell_type": "code",
   "execution_count": 46,
   "metadata": {
    "id": "JN8QQJPmAhsD"
   },
   "outputs": [
    {
     "data": {
      "text/plain": [
       "'Katze'"
      ]
     },
     "execution_count": 46,
     "metadata": {},
     "output_type": "execute_result"
    }
   ],
   "source": [
    "d['cat']"
   ]
  },
  {
   "cell_type": "markdown",
   "metadata": {
    "id": "Hh6TbSHLAhsD"
   },
   "source": [
    "We can add new dictionary elements:"
   ]
  },
  {
   "cell_type": "code",
   "execution_count": 47,
   "metadata": {
    "id": "hKa7SyfuAhsD"
   },
   "outputs": [
    {
     "data": {
      "text/plain": [
       "{'cat': 'Katze',\n",
       " 'flower': 'Blume',\n",
       " 'house': 'Haus',\n",
       " 'owl': 'Eule',\n",
       " 'pumpkin': 'Kürbis'}"
      ]
     },
     "execution_count": 47,
     "metadata": {},
     "output_type": "execute_result"
    }
   ],
   "source": [
    "d['pumpkin'] = 'Kürbis'\n",
    "d"
   ]
  },
  {
   "cell_type": "markdown",
   "metadata": {},
   "source": [
    "And we can modify existing dictionary elements by overwriting them (since every key is only allowed once):"
   ]
  },
  {
   "cell_type": "code",
   "execution_count": 48,
   "metadata": {},
   "outputs": [
    {
     "data": {
      "text/plain": [
       "{'cat': 'Katze',\n",
       " 'flower': 'Blume',\n",
       " 'house': 'Haus',\n",
       " 'owl': 'Kauz',\n",
       " 'pumpkin': 'Kürbis'}"
      ]
     },
     "execution_count": 48,
     "metadata": {},
     "output_type": "execute_result"
    }
   ],
   "source": [
    "d['owl'] = 'Kauz'\n",
    "d"
   ]
  },
  {
   "cell_type": "markdown",
   "metadata": {
    "id": "883vtdk9AhsF"
   },
   "source": [
    "Sometimes it is useful to retrieve and print all dictionary keys:"
   ]
  },
  {
   "cell_type": "code",
   "execution_count": 49,
   "metadata": {
    "id": "uyKhmfZzAhsF"
   },
   "outputs": [
    {
     "data": {
      "text/plain": [
       "dict_keys(['cat', 'flower', 'house', 'owl', 'pumpkin'])"
      ]
     },
     "execution_count": 49,
     "metadata": {},
     "output_type": "execute_result"
    }
   ],
   "source": [
    "d.keys()"
   ]
  },
  {
   "cell_type": "markdown",
   "metadata": {
    "id": "5RbM8OWkAhsF"
   },
   "source": [
    "Retrieve and print all dictionary values:"
   ]
  },
  {
   "cell_type": "code",
   "execution_count": 50,
   "metadata": {
    "id": "1sKK_VQ-AhsF"
   },
   "outputs": [
    {
     "data": {
      "text/plain": [
       "dict_values(['Katze', 'Blume', 'Haus', 'Kauz', 'Kürbis'])"
      ]
     },
     "execution_count": 50,
     "metadata": {},
     "output_type": "execute_result"
    }
   ],
   "source": [
    "d.values()"
   ]
  },
  {
   "cell_type": "markdown",
   "metadata": {},
   "source": [
    "You can also retrieve a list of key-value pairs in the form of tuples:"
   ]
  },
  {
   "cell_type": "code",
   "execution_count": 51,
   "metadata": {},
   "outputs": [
    {
     "data": {
      "text/plain": [
       "dict_items([('cat', 'Katze'), ('flower', 'Blume'), ('house', 'Haus'), ('owl', 'Kauz'), ('pumpkin', 'Kürbis')])"
      ]
     },
     "execution_count": 51,
     "metadata": {},
     "output_type": "execute_result"
    }
   ],
   "source": [
    "d.items()"
   ]
  },
  {
   "cell_type": "markdown",
   "metadata": {
    "id": "TspmIAVwAhsG"
   },
   "source": [
    "Try to retrieve a dictionary value that is not contained in the dictionary (this will result in an error): "
   ]
  },
  {
   "cell_type": "code",
   "execution_count": null,
   "metadata": {
    "id": "dBTFvm1lAhsG"
   },
   "outputs": [],
   "source": [
    "#print(d['ghost'])                  # KeyError: 'ghost' not a key of the dictionary"
   ]
  },
  {
   "cell_type": "markdown",
   "metadata": {
    "id": "m5QNnbHKAhsJ"
   },
   "source": [
    "## 4. Fundamental Programming Structures\n",
    "<a id='programmingstructures'></a>"
   ]
  },
  {
   "cell_type": "markdown",
   "metadata": {
    "id": "flEH90sOAhsJ"
   },
   "source": [
    "As part of this Notebook, we want to have a closer look at two basic programming structures of Python:\n",
    "\n",
    "> * **For-Loops** - used to iterate over a sequence of program statements\n",
    "> * **Decision Structures** - used to anticipate conditions occurring during the execution of a program"
   ]
  },
  {
   "cell_type": "markdown",
   "metadata": {
    "id": "gUyNrvBFAhsJ"
   },
   "source": [
    "### Python Loop Structures"
   ]
  },
  {
   "cell_type": "markdown",
   "metadata": {
    "id": "V10EPxYzAhsJ"
   },
   "source": [
    "For a computer program to do some meaningful work, we need a mechanism that implements the concept of repetition so we can loop over the same block of code time and again. \n",
    "\n",
    "The `for` loop is used to iterate over elements of a sequence. A simple application case would be that you want to repeat some lines of code \"n\" number of times. The nature of a for-loop in Python is very straightforward  **\"for all elements in a list, do this\".**\n",
    "\n",
    "Let's say that you have a list; you can then loop over the list elements using `for` like this:\n"
   ]
  },
  {
   "cell_type": "code",
   "execution_count": null,
   "metadata": {
    "id": "v_qHreC8AhsK"
   },
   "outputs": [],
   "source": [
    "l = ['cat', 'night', 'pumpkin']\n",
    "\n",
    "for s in l: \n",
    "    print(s)"
   ]
  },
  {
   "cell_type": "markdown",
   "metadata": {
    "id": "PPWf9Ah_AhsK"
   },
   "source": [
    "**Important Python Rule No. 2: Python relies on the concept of indentation, using whitespace (or tabs), to define the scope in the code.** This means that all code lines that use the same level of indentation belong to the same for-loop, function, etc. Other programming languages such as Java or C# often use brackets or curly-brackets for this purpose. \n",
    "\n",
    "To clarify this concept, consider the following examples:"
   ]
  },
  {
   "cell_type": "code",
   "execution_count": null,
   "metadata": {},
   "outputs": [],
   "source": [
    "for s in l:\n",
    "    print(s)\n",
    "    print(\"I'm here\")"
   ]
  },
  {
   "cell_type": "code",
   "execution_count": null,
   "metadata": {},
   "outputs": [],
   "source": [
    "for s in l:\n",
    "    print(s)\n",
    "print(\"I'm here\")"
   ]
  },
  {
   "cell_type": "markdown",
   "metadata": {},
   "source": [
    "Only in the former example `I'm here` is printed in every iteration since its level of indentation indicates that it is part of the for-loop. In the latter case, the second print function does not use indentation, so it is not considered part of the for-loop and only printed after the loop has finished. "
   ]
  },
  {
   "cell_type": "markdown",
   "metadata": {
    "id": "5_GiXfL4AhsK"
   },
   "source": [
    "To loop over a list of numbers, we can use Python's `range` function (see above):"
   ]
  },
  {
   "cell_type": "code",
   "execution_count": null,
   "metadata": {
    "id": "e22EoVZVAhsK"
   },
   "outputs": [],
   "source": [
    "for i in range(1, 10):\n",
    "    print(i) # print current value of i"
   ]
  },
  {
   "cell_type": "markdown",
   "metadata": {
    "id": "dzjP1eNhAhsK"
   },
   "source": [
    "To breakout from a loop - for instance, if a certain condition is met - you can use the keyword `break`. Let's have a look at the following example (which uses the `if` statement before we introduce it properly, see below): "
   ]
  },
  {
   "cell_type": "code",
   "execution_count": null,
   "metadata": {
    "id": "osyVk7JdAhsK"
   },
   "outputs": [],
   "source": [
    "for i in range(1, 10000000000):\n",
    " \n",
    "    if i == 3:  # test whether current value of i equals 3\n",
    "        break   # if so, break out from the loop\n",
    "        \n",
    "    print(i)"
   ]
  },
  {
   "cell_type": "markdown",
   "metadata": {
    "id": "fZK4kLcOAhsK"
   },
   "source": [
    "In contrast, the `continue` keyword is used to tell Python to skip the rest of the statements in the current loop block and to continue to the next iteration of the loop."
   ]
  },
  {
   "cell_type": "code",
   "execution_count": null,
   "metadata": {
    "id": "_0DwsWTpAhsK"
   },
   "outputs": [],
   "source": [
    "for i in range(1, 10):\n",
    "    \n",
    "    if i == 3:     # test whether current value of i equals 3\n",
    "        continue  # if so, continue looping\n",
    "    \n",
    "    print(i)"
   ]
  },
  {
   "cell_type": "markdown",
   "metadata": {
    "id": "DF2HSMQMAhsL"
   },
   "source": [
    "### Python Decision Structures"
   ]
  },
  {
   "cell_type": "markdown",
   "metadata": {
    "id": "vVBu5oEmAhsL"
   },
   "source": [
    "Decision structures evaluate expressions that produce **True** or **False** as an outcome. When solving a task, you often need to determine which action to take and which statements to execute based on some previous results."
   ]
  },
  {
   "cell_type": "markdown",
   "metadata": {
    "id": "r4BKUz_FAhsL"
   },
   "source": [
    "Let's briefly recap Python's use of logical or mathematical conditions:"
   ]
  },
  {
   "cell_type": "code",
   "execution_count": null,
   "metadata": {
    "id": "yQQ4qrWQAhsL"
   },
   "outputs": [],
   "source": [
    "# init sample variables\n",
    "a = 4\n",
    "b = 7"
   ]
  },
  {
   "cell_type": "code",
   "execution_count": null,
   "metadata": {
    "id": "yyPYegw3AhsL"
   },
   "outputs": [],
   "source": [
    "print(a == b)  # equals\n",
    "print(a != b)  # not equals\n",
    "print(a < b)   # less than\n",
    "print(a <= b)  # less than or equal to \n",
    "print(a > b)   # greater than\n",
    "print(a >= b)  # greater than or equal to"
   ]
  },
  {
   "cell_type": "markdown",
   "metadata": {
    "id": "RNVaRHFoAhsL"
   },
   "source": [
    "The mathematical conditions outlined above can be used in several ways, most commonly in if-statements. An if-statement is written by using the `if` keyword. Let's have a look at an example:"
   ]
  },
  {
   "cell_type": "code",
   "execution_count": null,
   "metadata": {
    "id": "-7fawuboAhsL"
   },
   "outputs": [],
   "source": [
    "# init sample variables\n",
    "a = 4\n",
    "b = 7\n",
    "\n",
    "# test condition\n",
    "if b > a:\n",
    "    print(\"b is greater than a\")"
   ]
  },
  {
   "cell_type": "markdown",
   "metadata": {
    "id": "L8lfHpzqAhsL"
   },
   "source": [
    "In the example above we used two variables, `a` and `b`, which are used as part of the if-statement to test whether `b` is greater than `a`. As `a` is 4, and `b` is 7, we know that 7 is greater than 4, and so we print that `\"b is greater than a\"`. Note how indentation is used here to indicate which code lines have to be run if the condition is True. "
   ]
  },
  {
   "cell_type": "markdown",
   "metadata": {
    "id": "vf_1M6FsAhsL"
   },
   "source": [
    "We can easily enhance the if-statement above by adding additional conditions using the `elif` keyword. The `elif` keyword is pythons way of saying \"if the previous conditions were not true, then try this condition\":"
   ]
  },
  {
   "cell_type": "code",
   "execution_count": null,
   "metadata": {
    "id": "kM2KSPiiAhsL"
   },
   "outputs": [],
   "source": [
    "a = 4\n",
    "b = 4\n",
    "\n",
    "# test condition 1\n",
    "if b > a:\n",
    "  print(\"b is greater than a\")\n",
    "\n",
    "# test condition 2\n",
    "elif a == b:\n",
    "  print(\"a and b are equal\")\n",
    "\n",
    "elif a != b:\n",
    "    print(\"test check and so on... \")"
   ]
  },
  {
   "cell_type": "markdown",
   "metadata": {
    "id": "Iu4p06BPAhsL"
   },
   "source": [
    "Finally, we can use the `else` keyword to catch any case which isn't found by the preceding conditions:"
   ]
  },
  {
   "cell_type": "code",
   "execution_count": null,
   "metadata": {
    "id": "0ZidOfM8AhsL"
   },
   "outputs": [],
   "source": [
    "a = 8\n",
    "b = 4\n",
    "\n",
    "# test condition 1\n",
    "if b > a:\n",
    "  print(\"b is greater than a\")\n",
    "\n",
    "# test condition 2\n",
    "elif a == b:\n",
    "  print(\"a and b are equal\")\n",
    "\n",
    "# all other cases\n",
    "else:\n",
    "  print(\"a is greater than b\")"
   ]
  },
  {
   "cell_type": "markdown",
   "metadata": {
    "id": "7llay0hQAhsM"
   },
   "source": [
    "In the example above the value assigned to a variable `a` is greater than the value assigned to `b`, so the first `if` condition is not true. Also, the `elif` condition is not true, so we ultimately go to the `else` condition and print that \"a is greater than b\"."
   ]
  },
  {
   "cell_type": "markdown",
   "metadata": {
    "id": "IwVBCT7TAhsM"
   },
   "source": [
    "## 5. Python Functions \n",
    "<a id='functions'></a>"
   ]
  },
  {
   "cell_type": "markdown",
   "metadata": {
    "id": "5USltVEXAhsM"
   },
   "source": [
    "A function is a block of organized, reusable code that is used to perform a single, related action. Functions provide better modularity for your application and allow for a high degree of reusable code. As you already saw, Python provides you with many built-in functions such as `print()`, etc. but you can also create your functions. These functions are called **user-defined functions**.\n",
    "\n",
    "A function is a block of code which only runs when it is called. You can pass data, known as arguments or parameters, into a function. A function can return data as a result. Python functions are defined using the `def` keyword.\n",
    "\n",
    "Let's recycle the code comparing two numbers from the previous section and put it into a function:"
   ]
  },
  {
   "cell_type": "code",
   "execution_count": null,
   "metadata": {},
   "outputs": [],
   "source": [
    "def compare(a, b):\n",
    "    if b > a:\n",
    "        print(\"b is greater than a\")\n",
    "    elif a == b:\n",
    "        print(\"a and b are equal\")\n",
    "    else:\n",
    "        print(\"a is greater than b\")"
   ]
  },
  {
   "cell_type": "markdown",
   "metadata": {},
   "source": [
    "First, notice the use of indentation here: all code lines use indentation since they are part of the function definition. Those lines that are part of the if-structure use additional indentation. \n",
    "\n",
    "Let's evaluate this function:"
   ]
  },
  {
   "cell_type": "code",
   "execution_count": null,
   "metadata": {},
   "outputs": [],
   "source": [
    "compare(1, 2)"
   ]
  },
  {
   "cell_type": "code",
   "execution_count": null,
   "metadata": {},
   "outputs": [],
   "source": [
    "compare(100, 2)"
   ]
  },
  {
   "cell_type": "markdown",
   "metadata": {},
   "source": [
    "This does the trick, but the more \"pythonic\" way would be not to print the result on the screen, but to return it to the user:"
   ]
  },
  {
   "cell_type": "code",
   "execution_count": null,
   "metadata": {},
   "outputs": [],
   "source": [
    "def which_number_is_greater(a, b):\n",
    "    if a > b:\n",
    "        return a\n",
    "    elif b > a:\n",
    "        return b\n",
    "    else:\n",
    "        return None"
   ]
  },
  {
   "cell_type": "code",
   "execution_count": null,
   "metadata": {},
   "outputs": [],
   "source": [
    "which_number_is_greater(100, 99)"
   ]
  },
  {
   "cell_type": "markdown",
   "metadata": {},
   "source": [
    "Note that the function call gets replaced with the result, which can be used right away in mathematical expressions:"
   ]
  },
  {
   "cell_type": "code",
   "execution_count": null,
   "metadata": {},
   "outputs": [],
   "source": [
    "which_number_is_greater(100, 99) + 1"
   ]
  },
  {
   "cell_type": "markdown",
   "metadata": {},
   "source": [
    "Finally, there are two types of arguments: positional arguments that are identfied as per their position in the function call and keyword arguments that have to be addressed specifically and typically have default values:"
   ]
  },
  {
   "cell_type": "code",
   "execution_count": null,
   "metadata": {},
   "outputs": [],
   "source": [
    "def some_math(a, b, c=0, d=1):\n",
    "    return (a + 2*b + c) * d"
   ]
  },
  {
   "cell_type": "code",
   "execution_count": null,
   "metadata": {},
   "outputs": [],
   "source": [
    "some_math(1, 2)"
   ]
  },
  {
   "cell_type": "code",
   "execution_count": null,
   "metadata": {},
   "outputs": [],
   "source": [
    "some_math(1, 2, d=4, c=2)"
   ]
  },
  {
   "cell_type": "markdown",
   "metadata": {},
   "source": [
    "## 6. Importing Python Modules\n",
    "<a id='modules'></a>\n",
    "\n",
    "Python provides a huge list of \"built-in\" functionality, things that it can do out-of-the-box. However, for specific use cases - like training deep neural networks - it requires functionality from external modules that can be readily \"imported\" into your Python runtime environment.\n",
    "\n",
    "Later we will learn about the Numpy module and its support for arrays and higher math. For now let's focus on how to import this module:"
   ]
  },
  {
   "cell_type": "code",
   "execution_count": null,
   "metadata": {},
   "outputs": [],
   "source": [
    "import numpy"
   ]
  },
  {
   "cell_type": "markdown",
   "metadata": {},
   "source": [
    "That's it. Now presume that we would like to use its `sqrt` function to calculate the square-root of 9:"
   ]
  },
  {
   "cell_type": "code",
   "execution_count": null,
   "metadata": {},
   "outputs": [],
   "source": [
    "numpy.sqrt(9)"
   ]
  },
  {
   "cell_type": "markdown",
   "metadata": {},
   "source": [
    "So, in order to use a function from Numpy, we have to specify that we would like to use the `sqrt` from Numpy by typing `numpy.sqrt`. This is necessary to resolve possible confusion with other functions that might carry the same name. \n",
    "\n",
    "Since typing `numpy.` everytime we want to use a Numpy function quickly becomes tedious, you can give the Numpy module a different name (`np` is the usual choice) so you have to type less:"
   ]
  },
  {
   "cell_type": "code",
   "execution_count": null,
   "metadata": {},
   "outputs": [],
   "source": [
    "import numpy as np\n",
    "\n",
    "np.sqrt(9)"
   ]
  },
  {
   "cell_type": "markdown",
   "metadata": {},
   "source": [
    "## 7. Classes\n",
    "<a id='classes'></a>\n",
    "\n",
    "Python is an object oriented programming language, which means that it supports the concepts of classes and inheritance. \n",
    "\n",
    "A class is an abstract template to generate objects. Objects of the same class have the same structure. **Methods** are functions that are related to objects and allow these objects to do things, **attributes** allow them to have properties. This sounds pretty abstract, so let's have a look at an example.\n",
    "\n",
    "Consider a class `Animal` (class names are capitalized). There are many different types of animals, but they all have in common (among many other things) that they eat food and, as a result of that, they gain weight. We can consider `eat`ing a method and `weight` an attribute of class `Animal`. Let's implement this as a Python class: "
   ]
  },
  {
   "cell_type": "code",
   "execution_count": 63,
   "metadata": {},
   "outputs": [],
   "source": [
    "class Animal():\n",
    "    # this is the constructor; we can give our animal a name\n",
    "    def __init__(self, name):\n",
    "        self.name = name\n",
    "        self.weight = 1\n",
    "\n",
    "    # this is our eat class; we can provide an amount for the food eaten\n",
    "    def eat(self, amount):\n",
    "        print('yum!')\n",
    "        self.weight += amount"
   ]
  },
  {
   "cell_type": "markdown",
   "metadata": {},
   "source": [
    "The class has two methods: `__init__`, which is called the constructor and `eat`. \n",
    "\n",
    "Method `eat` is quickly explained. Whenever we call it, the animal expresses `yum!` and gains weight. To understand `self.weight`, we have to look at the constructor. \n",
    "\n",
    "The constructor looks somewhat funny, but it is very important: whenever we instantiate an object of class `animal`, the constructor method is called. In this case, the constructor has two arguments: `self` and `name`. The latter is simply the name that we provide to the instance. `self` is a bit more complicated: it is a reference to the instance itself. Its meaning becomes a bit clearer if we look the following lines. We assign attributes `name` and `weight` to `self`. The weight of our animal is simply fixed at the beginning, the name is as provided during instantiation. These attributes belong to the instance, not the class.\n",
    "\n",
    "Let's have a look at what all this means. We instantiate two object of class `Animal`, one we call `dog` and one we call `cat`:"
   ]
  },
  {
   "cell_type": "code",
   "execution_count": 68,
   "metadata": {},
   "outputs": [],
   "source": [
    "dog = Animal('Rover')\n",
    "cat = Animal('Felix')"
   ]
  },
  {
   "cell_type": "markdown",
   "metadata": {},
   "source": [
    "We can ask both animals for their names, by simply querying this attribute:"
   ]
  },
  {
   "cell_type": "code",
   "execution_count": 69,
   "metadata": {},
   "outputs": [
    {
     "name": "stdout",
     "output_type": "stream",
     "text": [
      "Rover Felix\n"
     ]
    }
   ],
   "source": [
    "print(dog.name, cat.name)"
   ]
  },
  {
   "cell_type": "markdown",
   "metadata": {},
   "source": [
    "The line `self.name = name` in the class constructor therefore creates an attribute of the instance (note how `self.name` is related to the instance, not the class).\n",
    "\n",
    "Now, let's feed our dog and then check its weight:"
   ]
  },
  {
   "cell_type": "code",
   "execution_count": 70,
   "metadata": {},
   "outputs": [
    {
     "name": "stdout",
     "output_type": "stream",
     "text": [
      "yum!\n",
      "the dog weighs 6\n",
      "the cat weighs 1\n"
     ]
    }
   ],
   "source": [
    "dog.eat(5)\n",
    "print('the dog weighs', dog.weight)\n",
    "print('the cat weighs', cat.weight)\n"
   ]
  },
  {
   "cell_type": "markdown",
   "metadata": {},
   "source": [
    "By calling the `eat` method for the dog, the dog gains weight. But the cat is not touched by the dog eating. \n",
    "\n",
    "This is a very simplified example, but it showcases some of the advantages of object-oriented programming.\n",
    "\n",
    "Before we finish our quick introduction into classes, there is one more concept that we should touch on: **inheritance**. Classes can inherit methods and attributes from parent classes. \n",
    "\n",
    "To stay in the animal kingdom picture, we will create a class `bird` that inherits from class `Animal`:"
   ]
  },
  {
   "cell_type": "code",
   "execution_count": 73,
   "metadata": {},
   "outputs": [],
   "source": [
    "class Bird(Animal):\n",
    "    \n",
    "    def chirp(self):\n",
    "        print('chirp, chirp!')"
   ]
  },
  {
   "cell_type": "markdown",
   "metadata": {},
   "source": [
    "This is a very simple class, it does not even have a constructor. But this is not really true. By defining `class Bird(Animal)`, we specify that class `Bird` inherits all methods and attributes from class `Animal`. As a result, if we instantiate a `Bird`, the `Animal` constructor is automatically called and it shares the same methods and attributes:"
   ]
  },
  {
   "cell_type": "code",
   "execution_count": 75,
   "metadata": {},
   "outputs": [
    {
     "name": "stdout",
     "output_type": "stream",
     "text": [
      "chirp, chirp!\n",
      "yum!\n",
      "2\n"
     ]
    }
   ],
   "source": [
    "pigeon = Bird('steve')\n",
    "pigeon.chirp()\n",
    "pigeon.eat(1)\n",
    "print(pigeon.weight)"
   ]
  },
  {
   "cell_type": "markdown",
   "metadata": {},
   "source": [
    "As you can see, our `pigeon` can `eat` and `chirp`!"
   ]
  }
 ],
 "metadata": {
  "kernelspec": {
   "display_name": "Python 3",
   "language": "python",
   "name": "python3"
  },
  "language_info": {
   "codemirror_mode": {
    "name": "ipython",
    "version": 3
   },
   "file_extension": ".py",
   "mimetype": "text/x-python",
   "name": "python",
   "nbconvert_exporter": "python",
   "pygments_lexer": "ipython3",
   "version": "3.11.5"
  },
  "toc": {
   "base_numbering": 1,
   "nav_menu": {},
   "number_sections": false,
   "sideBar": true,
   "skip_h1_title": false,
   "title_cell": "Table of Contents",
   "title_sidebar": "Contents",
   "toc_cell": false,
   "toc_position": {},
   "toc_section_display": true,
   "toc_window_display": false
  }
 },
 "nbformat": 4,
 "nbformat_minor": 4
}
