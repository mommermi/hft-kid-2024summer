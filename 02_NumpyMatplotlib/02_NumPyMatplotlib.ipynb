{
 "cells": [
  {
   "cell_type": "markdown",
   "metadata": {},
   "source": [
    "# 02 - NumPy and Matplotlib\n",
    "\n",
    "*KI-basierte Datenanalyse*, HFT Stuttgart, 2024 Summer Term, Michael Mommert (michael.mommert@hft-stuttgart.de)\n",
    "\n",
    "This Notebook provides an introduction into NumPy and Matplotlib. This Notebook is based on material published in the book [\"Python for Scientists\", 3rd edition, James M. Stewart & Michael Mommert, Cambridge University Press](https://www.cambridge.org/us/universitypress/subjects/mathematics/computational-science/python-scientists-3rd-edition)."
   ]
  },
  {
   "cell_type": "markdown",
   "metadata": {},
   "source": [
    "Before we start, we have to install a few packages (Binder only):"
   ]
  },
  {
   "cell_type": "code",
   "execution_count": null,
   "metadata": {},
   "outputs": [],
   "source": [
    "!pip install -r requirements.txt"
   ]
  },
  {
   "cell_type": "markdown",
   "metadata": {},
   "source": [
    "# NumPy\n",
    "\n",
    "NumPy is Python's library for numerical math. Before we can use NumPy functionality, we have to import it.\n",
    "\n",
    "We use the default way to import NumPy:"
   ]
  },
  {
   "cell_type": "code",
   "execution_count": null,
   "metadata": {},
   "outputs": [],
   "source": [
    "import numpy as np"
   ]
  },
  {
   "cell_type": "markdown",
   "metadata": {},
   "source": [
    "## Arrays"
   ]
  },
  {
   "cell_type": "markdown",
   "metadata": {},
   "source": [
    "Arrays are NumPy's workhorse. They are basically lists on steroids. \n",
    "\n",
    "Let's see what this means by doing a little experiment. We create a large list (and an array from the same list). Then we increment each element in the list and the array and measure the time it takes for this process (we use `%%timeit` cell magic for this measurement). Let's compare:"
   ]
  },
  {
   "cell_type": "code",
   "execution_count": null,
   "metadata": {},
   "outputs": [],
   "source": [
    "l = list(range(10000000))\n",
    "l2 = []\n",
    "a = np.array(l)"
   ]
  },
  {
   "cell_type": "code",
   "execution_count": null,
   "metadata": {},
   "outputs": [],
   "source": [
    "%%timeit -n 3 -r 1\n",
    "for i in l:\n",
    "    l2.append(i+1)"
   ]
  },
  {
   "cell_type": "code",
   "execution_count": null,
   "metadata": {},
   "outputs": [],
   "source": [
    "%%timeit -n 3 -r 1\n",
    "a2 = a+1"
   ]
  },
  {
   "cell_type": "markdown",
   "metadata": {},
   "source": [
    "Wow, using NumPy is way faster! Why is that? NumPy uses math libraries on your computer that are implemented in C. What happens is that you write code in Python, but under the hood, the code is executed in C, making it much faster!\n",
    "\n",
    "The bottom line is: for math-heavy or data-heavy use cases, you should always try to use NumPy functionality. So let's learn how to use arrays."
   ]
  },
  {
   "cell_type": "markdown",
   "metadata": {},
   "source": [
    "### One-dimensional arrays"
   ]
  },
  {
   "cell_type": "markdown",
   "metadata": {},
   "source": [
    "We can create an array from a list:"
   ]
  },
  {
   "cell_type": "code",
   "execution_count": null,
   "metadata": {},
   "outputs": [],
   "source": [
    "l = [1, 2, 3.0]\n",
    "x = np.array(l)\n",
    "x"
   ]
  },
  {
   "cell_type": "markdown",
   "metadata": {},
   "source": [
    "While lists can consist of elements of different data types, all elements of the same array must have the same data type. To enforce this, arrays actually have a data type:"
   ]
  },
  {
   "cell_type": "code",
   "execution_count": null,
   "metadata": {},
   "outputs": [],
   "source": [
    "x.dtype"
   ]
  },
  {
   "cell_type": "markdown",
   "metadata": {},
   "source": [
    "This allows us to easily convert an array of float values into an array of integers:"
   ]
  },
  {
   "cell_type": "code",
   "execution_count": null,
   "metadata": {},
   "outputs": [],
   "source": [
    "x.astype(int)"
   ]
  },
  {
   "cell_type": "markdown",
   "metadata": {},
   "source": [
    "Arrays also have a number of other useful attributes:"
   ]
  },
  {
   "cell_type": "code",
   "execution_count": null,
   "metadata": {},
   "outputs": [],
   "source": [
    "print(x.ndim)  # number of dimensions\n",
    "print(x.size)  # size of the array\n",
    "print(x.shape)  # shape of the array"
   ]
  },
  {
   "cell_type": "markdown",
   "metadata": {},
   "source": [
    "And arrays have useful methods:"
   ]
  },
  {
   "cell_type": "code",
   "execution_count": null,
   "metadata": {},
   "outputs": [],
   "source": [
    "x = np.linspace(0, 10, 11)\n",
    "print(x.mean())     # mean of array\n",
    "print(x.max())      # max of array\n",
    "print(x.argmax())   # index of max element\n",
    "print(x.clip(2, 6)) # clip array values to range [2,6]"
   ]
  },
  {
   "cell_type": "markdown",
   "metadata": {},
   "source": [
    "Slicing and indexing work on arrays just as on lists:"
   ]
  },
  {
   "cell_type": "code",
   "execution_count": null,
   "metadata": {},
   "outputs": [],
   "source": [
    "x[2:5], x[0]"
   ]
  },
  {
   "cell_type": "markdown",
   "metadata": {},
   "source": [
    "`np.linspace()` is a convenience function that creates an array of evenly spaced numbers: "
   ]
  },
  {
   "cell_type": "code",
   "execution_count": null,
   "metadata": {},
   "outputs": [],
   "source": [
    "np.linspace(0, 1, 10)"
   ]
  },
  {
   "cell_type": "markdown",
   "metadata": {},
   "source": [
    "the `endpoint` option makes the stop value exclusive: "
   ]
  },
  {
   "cell_type": "code",
   "execution_count": null,
   "metadata": {},
   "outputs": [],
   "source": [
    "np.linspace(0, 1, 10, endpoint=False)"
   ]
  },
  {
   "cell_type": "markdown",
   "metadata": {},
   "source": [
    "A different way to create a linearly spaced array is `np.arange()`:"
   ]
  },
  {
   "cell_type": "code",
   "execution_count": null,
   "metadata": {},
   "outputs": [],
   "source": [
    "np.arange(1, 10, 1)"
   ]
  },
  {
   "cell_type": "markdown",
   "metadata": {},
   "source": [
    "There are also convenience functions to create arrays full of zeros or ones:"
   ]
  },
  {
   "cell_type": "code",
   "execution_count": null,
   "metadata": {},
   "outputs": [],
   "source": [
    "print(np.zeros(5, dtype=float))\n",
    "print(np.ones(5))"
   ]
  },
  {
   "cell_type": "markdown",
   "metadata": {},
   "source": [
    "### Basic array arithmetic"
   ]
  },
  {
   "cell_type": "markdown",
   "metadata": {},
   "source": [
    "NumPy supports basic array arithmetic:"
   ]
  },
  {
   "cell_type": "code",
   "execution_count": null,
   "metadata": {},
   "outputs": [],
   "source": [
    "a = np.linspace(0, 1, 5)  \n",
    "c = np.linspace(1, 3, 5)\n",
    "print(a+c)\n",
    "print(a*c)\n",
    "print(a/c)"
   ]
  },
  {
   "cell_type": "markdown",
   "metadata": {},
   "source": [
    "Note how these arithmetic operations are defined element-wise between the elements of two (or more) arrays of the same shape. In the same way, arithmetic operations are defined between arrays and scalar values:"
   ]
  },
  {
   "cell_type": "code",
   "execution_count": null,
   "metadata": {},
   "outputs": [],
   "source": [
    "a = np.linspace(0, 1, 5)\n",
    "print(a*2)\n",
    "print(a**2)\n",
    "print(a/2)"
   ]
  },
  {
   "cell_type": "markdown",
   "metadata": {},
   "source": [
    "Here, the operation is defined between the scalar and each element of the array.\n",
    "\n",
    "Arithmetic operations are also allowed between arrays of different shapes. The method behind this is called broadcasting. Let's look at an example:"
   ]
  },
  {
   "cell_type": "code",
   "execution_count": null,
   "metadata": {},
   "outputs": [],
   "source": [
    "a = np.array([[1, 2, 3], [4, 5, 6]])  \n",
    "c = np.array([1, 2, 3])\n",
    "print(a+c)\n",
    "print(a*c)\n",
    "print(a/c)"
   ]
  },
  {
   "cell_type": "markdown",
   "metadata": {},
   "source": [
    "The broadcasting rule is as follows:\n",
    "\n",
    "Each dimension is checked for compatibility, starting from the far-right one. Two dimensions are compatible if they are (1) equal or (2) if one of them is one. In the latter case, the smaller array is reshaped by repeating the pattern to match that dimension.\n",
    "\n",
    "This sounds rather complicated, but you will get a feeling for it when playing with broadcasting."
   ]
  },
  {
   "cell_type": "markdown",
   "metadata": {},
   "source": [
    "### Two (and more)-dimensional arrays"
   ]
  },
  {
   "cell_type": "markdown",
   "metadata": {},
   "source": [
    "Arrays can have any dimensionality you like. Two (and more)-dimensional arrays work the exact same way as one-dimensional arrays.\n",
    "\n",
    "We can generate a two-dimensional array from a nested list:"
   ]
  },
  {
   "cell_type": "code",
   "execution_count": null,
   "metadata": {},
   "outputs": [],
   "source": [
    "x = np.array([[0, 1, 2, 3], [4, 5, 6, 7], [8, 9, 10, 11]])\n",
    "x"
   ]
  },
  {
   "cell_type": "markdown",
   "metadata": {},
   "source": [
    "What is the shape of `x`?"
   ]
  },
  {
   "cell_type": "code",
   "execution_count": null,
   "metadata": {},
   "outputs": [],
   "source": [
    "x.shape"
   ]
  },
  {
   "cell_type": "markdown",
   "metadata": {},
   "source": [
    "With the same method, we can also create higher dimensional arrays:"
   ]
  },
  {
   "cell_type": "code",
   "execution_count": null,
   "metadata": {},
   "outputs": [],
   "source": [
    "im = np.array([[[1, 0, 0], [1, 1, 0]],\n",
    "               [[1, 0, 1], [0, 0, 1]]])\n",
    "im.shape"
   ]
  },
  {
   "cell_type": "markdown",
   "metadata": {},
   "source": [
    "Indexing and slicing works the exact same way as for one-dimensional arrays:"
   ]
  },
  {
   "cell_type": "code",
   "execution_count": null,
   "metadata": {},
   "outputs": [],
   "source": [
    "print(x[2])     # 3rd row\n",
    "print(x[:,1])   # 2nd column\n",
    "print(x[2][1])  # specific element\n",
    "print(x[2,1])   # specific element"
   ]
  },
  {
   "cell_type": "markdown",
   "metadata": {},
   "source": [
    "Note that NumPy uses matrix notation: the order of the indexing is row first, column second (as opposed to x, y).\n",
    "\n",
    "Of course, we can use the same constructors that exist for one-dimensional arrays:"
   ]
  },
  {
   "cell_type": "code",
   "execution_count": null,
   "metadata": {},
   "outputs": [],
   "source": [
    "np.zeros((3, 3, 3))"
   ]
  },
  {
   "cell_type": "markdown",
   "metadata": {},
   "source": [
    "### Array manipulations"
   ]
  },
  {
   "cell_type": "markdown",
   "metadata": {},
   "source": [
    "We can `reshape()` a one-dimensional list into a multi-dimensional array:"
   ]
  },
  {
   "cell_type": "code",
   "execution_count": null,
   "metadata": {},
   "outputs": [],
   "source": [
    "np.reshape(range(6), (2,3))"
   ]
  },
  {
   "cell_type": "markdown",
   "metadata": {},
   "source": [
    "naturally, this also works with more efficient ways to generate arrays:"
   ]
  },
  {
   "cell_type": "code",
   "execution_count": null,
   "metadata": {},
   "outputs": [],
   "source": [
    "np.reshape(np.linspace(0, 1.0, 9), (3, 3))"
   ]
  },
  {
   "cell_type": "markdown",
   "metadata": {},
   "source": [
    "Of course, the original list or array must have a shape that is compatible with the output shape; if this is not the case, it will result in a `ValueError`."
   ]
  },
  {
   "cell_type": "markdown",
   "metadata": {},
   "source": [
    "The reshape() method also allows for a wildcard symbol (`-1`), which will figure out itself the length along one dimension:"
   ]
  },
  {
   "cell_type": "code",
   "execution_count": null,
   "metadata": {},
   "outputs": [],
   "source": [
    "np.reshape(np.arange(12), (-1, 3))"
   ]
  },
  {
   "cell_type": "markdown",
   "metadata": {},
   "source": [
    "We can `concatenate()` arrays if their shapes are compatible:"
   ]
  },
  {
   "cell_type": "code",
   "execution_count": null,
   "metadata": {},
   "outputs": [],
   "source": [
    "np.concatenate(([0, 1, 2], [3, 4], [5, 6, 7, 8], [9]))"
   ]
  },
  {
   "cell_type": "markdown",
   "metadata": {},
   "source": [
    "this also works for multi-dimensional arrays and a given axis if the shapes are compatible:"
   ]
  },
  {
   "cell_type": "code",
   "execution_count": null,
   "metadata": {},
   "outputs": [],
   "source": [
    "np.concatenate([[[1, 2, 3], [6, 7, 8]], [[4, 5], [9, 10]]], axis=1)"
   ]
  },
  {
   "cell_type": "markdown",
   "metadata": {},
   "source": [
    "we can `stack()` arrays:"
   ]
  },
  {
   "cell_type": "code",
   "execution_count": null,
   "metadata": {},
   "outputs": [],
   "source": [
    "np.stack([[[0, 1], [2, 3]], [[4, 5], [6, 7]], [[8, 9], [10, 11]]], axis=0)"
   ]
  },
  {
   "cell_type": "markdown",
   "metadata": {},
   "source": [
    "if compatible, we can stack along a different axis:"
   ]
  },
  {
   "cell_type": "code",
   "execution_count": null,
   "metadata": {},
   "outputs": [],
   "source": [
    "np.stack([[[0, 1], [2, 3]], [[4, 5], [6, 7]], [[8, 9], [10, 11]]], axis=1)"
   ]
  },
  {
   "cell_type": "markdown",
   "metadata": {},
   "source": [
    "... and yet another axis:"
   ]
  },
  {
   "cell_type": "code",
   "execution_count": null,
   "metadata": {},
   "outputs": [],
   "source": [
    "np.stack([[[0, 1], [2, 3]], [[4, 5], [6, 7]], [[8, 9], [10, 11]]], axis=2)"
   ]
  },
  {
   "cell_type": "markdown",
   "metadata": {},
   "source": [
    "## Working with arrays"
   ]
  },
  {
   "cell_type": "markdown",
   "metadata": {},
   "source": [
    "### Mathematical functions and operators"
   ]
  },
  {
   "cell_type": "markdown",
   "metadata": {},
   "source": [
    "NumPy provides a wide range of mathematical functions and operators. These are called `ufunc`s as they can be applied to scalar values and arrays alike (in the case of arrays, they always work element-wise). We apply a simple ufunc to a scalar value:"
   ]
  },
  {
   "cell_type": "code",
   "execution_count": null,
   "metadata": {},
   "outputs": [],
   "source": [
    "np.sqrt(9)"
   ]
  },
  {
   "cell_type": "markdown",
   "metadata": {},
   "source": [
    "we apply a simple ufunc to an array:"
   ]
  },
  {
   "cell_type": "code",
   "execution_count": null,
   "metadata": {},
   "outputs": [],
   "source": [
    "np.sqrt(np.arange(5))"
   ]
  },
  {
   "cell_type": "markdown",
   "metadata": {},
   "source": [
    "### Sums and products"
   ]
  },
  {
   "cell_type": "markdown",
   "metadata": {},
   "source": [
    "we can compute the overall `sum()` and we can sum along specific axes:"
   ]
  },
  {
   "cell_type": "code",
   "execution_count": null,
   "metadata": {},
   "outputs": [],
   "source": [
    "a = [[1, 2], [3, 4]]\n",
    "print('sum over all elements:', np.sum(a))\n",
    "print('sum over rows:', np.sum(a, axis=0))\n",
    "print('sum over columns:', np.sum(a, axis=1))"
   ]
  },
  {
   "cell_type": "markdown",
   "metadata": {},
   "source": [
    "### Advanced array indexing\n",
    "\n",
    "We can test for conditions in arrays, e.g., whether elements of the array are greater than 3:"
   ]
  },
  {
   "cell_type": "code",
   "execution_count": null,
   "metadata": {},
   "outputs": [],
   "source": [
    "x = np.linspace(1, 5, 5)\n",
    "x > 3"
   ]
  },
  {
   "cell_type": "markdown",
   "metadata": {},
   "source": [
    "As you can see, the output is an array of Boolean values, indicating the outcome of the comparison for each element of the array. This is called a logical array. \n",
    "\n",
    "We can use logical arrays for indexing:"
   ]
  },
  {
   "cell_type": "code",
   "execution_count": null,
   "metadata": {},
   "outputs": [],
   "source": [
    "x[(x>1) & (x<4)]"
   ]
  },
  {
   "cell_type": "markdown",
   "metadata": {},
   "source": [
    "### Sorting and searching"
   ]
  },
  {
   "cell_type": "markdown",
   "metadata": {},
   "source": [
    "we can `sort()` arrays:"
   ]
  },
  {
   "cell_type": "code",
   "execution_count": null,
   "metadata": {},
   "outputs": [],
   "source": [
    "x = np.array([4, 1, 7, 2, 9, 3])\n",
    "np.sort(x)"
   ]
  },
  {
   "cell_type": "markdown",
   "metadata": {},
   "source": [
    "we can retrieve a sorted index order with `argsort()`:"
   ]
  },
  {
   "cell_type": "code",
   "execution_count": null,
   "metadata": {},
   "outputs": [],
   "source": [
    "z = np.argsort(x)\n",
    "print('indices:', z)\n",
    "print('ordered array:', x[z])"
   ]
  },
  {
   "cell_type": "markdown",
   "metadata": {},
   "source": [
    "## Random numbers"
   ]
  },
  {
   "cell_type": "markdown",
   "metadata": {},
   "source": [
    "we can generate random numbers with a random number generator (rng, results may vary):"
   ]
  },
  {
   "cell_type": "code",
   "execution_count": null,
   "metadata": {},
   "outputs": [],
   "source": [
    "from numpy.random import default_rng\n",
    "\n",
    "rng = default_rng()\n",
    "rng.random()"
   ]
  },
  {
   "cell_type": "markdown",
   "metadata": {},
   "source": [
    "we can generate arrays of random numbers (between 0 and excluding 1, results may vary):"
   ]
  },
  {
   "cell_type": "code",
   "execution_count": null,
   "metadata": {},
   "outputs": [],
   "source": [
    "rng.random(3)"
   ]
  },
  {
   "cell_type": "markdown",
   "metadata": {},
   "source": [
    "and, of course, we can generate multi-dimensional arrays of random numbers (results may vary):"
   ]
  },
  {
   "cell_type": "code",
   "execution_count": null,
   "metadata": {},
   "outputs": [],
   "source": [
    "rng.random((3, 3))"
   ]
  },
  {
   "cell_type": "markdown",
   "metadata": {},
   "source": [
    "we can scale the random numbers to a different range easily (results may vary):"
   ]
  },
  {
   "cell_type": "code",
   "execution_count": null,
   "metadata": {},
   "outputs": [],
   "source": [
    "5 + rng.random(3)*15"
   ]
  },
  {
   "cell_type": "markdown",
   "metadata": {},
   "source": [
    "we can also generate a random array of integers (results may vary):"
   ]
  },
  {
   "cell_type": "code",
   "execution_count": null,
   "metadata": {},
   "outputs": [],
   "source": [
    "rng.integers(low=10, high=100, size=(3,3))"
   ]
  },
  {
   "cell_type": "markdown",
   "metadata": {},
   "source": [
    "we can generate an array of normally distributed random numbers (results may vary):"
   ]
  },
  {
   "cell_type": "code",
   "execution_count": null,
   "metadata": {},
   "outputs": [],
   "source": [
    "rng.normal(loc=5, scale=1, size=10)"
   ]
  },
  {
   "cell_type": "markdown",
   "metadata": {},
   "source": [
    "we can set a seed value of a random number generator:"
   ]
  },
  {
   "cell_type": "code",
   "execution_count": null,
   "metadata": {},
   "outputs": [],
   "source": [
    "rng_seeded = default_rng(42)"
   ]
  },
  {
   "cell_type": "markdown",
   "metadata": {},
   "source": [
    "now, it will generate random numbers always in the same order:"
   ]
  },
  {
   "cell_type": "code",
   "execution_count": null,
   "metadata": {},
   "outputs": [],
   "source": [
    "rng_seeded.random(3)"
   ]
  },
  {
   "cell_type": "markdown",
   "metadata": {},
   "source": [
    "this also applies when generating random numbers, one at a time:"
   ]
  },
  {
   "cell_type": "code",
   "execution_count": null,
   "metadata": {},
   "outputs": [],
   "source": [
    "rng_seeded = default_rng(42)\n",
    "\n",
    "for i in range(3):\n",
    "    print(rng_seeded.random())"
   ]
  },
  {
   "cell_type": "markdown",
   "metadata": {},
   "source": [
    "## Simple statistics"
   ]
  },
  {
   "cell_type": "markdown",
   "metadata": {},
   "source": [
    "we derive the `max()` element of an array: "
   ]
  },
  {
   "cell_type": "code",
   "execution_count": null,
   "metadata": {},
   "outputs": [],
   "source": [
    "x = np.array([[5,4,1], [7,3,2]])\n",
    "np.max(x)"
   ]
  },
  {
   "cell_type": "markdown",
   "metadata": {},
   "source": [
    "we can do the same along individual axes:"
   ]
  },
  {
   "cell_type": "code",
   "execution_count": null,
   "metadata": {},
   "outputs": [],
   "source": [
    "print('axis=0:', np.max(x, axis=0))\n",
    "print('axis=1:', np.max(x, axis=1))"
   ]
  },
  {
   "cell_type": "markdown",
   "metadata": {},
   "source": [
    "we can also compute the `average()` of an array:"
   ]
  },
  {
   "cell_type": "code",
   "execution_count": null,
   "metadata": {},
   "outputs": [],
   "source": [
    "x = [3.1, 2.7, 2.5, 3.1, 2.9]\n",
    "xerr = np.array([0.05, 0.15, 0.6, 0.1, 0.05])\n",
    "print('unweighted:', np.average(x))\n",
    "print('weighted:', np.average(x, weights=1/xerr**2))"
   ]
  },
  {
   "cell_type": "markdown",
   "metadata": {},
   "source": [
    "we can compute a `histogram()` (results may vary):"
   ]
  },
  {
   "cell_type": "code",
   "execution_count": null,
   "metadata": {},
   "outputs": [],
   "source": [
    "x = np.random.normal(size=100)\n",
    "hist, bins = np.histogram(x, 10)\n",
    "print('hist:', hist)\n",
    "print('bins:', bins)"
   ]
  },
  {
   "cell_type": "markdown",
   "metadata": {},
   "source": [
    "we can also define the bin edges manually (results may vary): "
   ]
  },
  {
   "cell_type": "code",
   "execution_count": null,
   "metadata": {},
   "outputs": [],
   "source": [
    "hist, bins = np.histogram(x, [-3, -1, 0, 1, 3])\n",
    "print('hist:', hist)\n",
    "print('bins:', bins)"
   ]
  },
  {
   "cell_type": "markdown",
   "metadata": {},
   "source": [
    "instead of returning a frequency, we can force `histogram()` to compute a density (results may vary):"
   ]
  },
  {
   "cell_type": "code",
   "execution_count": null,
   "metadata": {},
   "outputs": [],
   "source": [
    "hist, bins = np.histogram(x, [-3, -1, 0, 1, 3], density=True)\n",
    "print('hist:', hist)\n",
    "print('sum over hist:', np.sum(hist*(bins[1:]-bins[:-1])))"
   ]
  },
  {
   "cell_type": "markdown",
   "metadata": {},
   "source": [
    "we can also `correlate()` two arrays:"
   ]
  },
  {
   "cell_type": "code",
   "execution_count": null,
   "metadata": {},
   "outputs": [],
   "source": [
    "np.correlate([1, 2, 3], [4, 5, 6])"
   ]
  },
  {
   "cell_type": "markdown",
   "metadata": {},
   "source": [
    "and we can compute the Pearson product-moment correlation coefficients:"
   ]
  },
  {
   "cell_type": "code",
   "execution_count": null,
   "metadata": {},
   "outputs": [],
   "source": [
    "np.corrcoef([1, 2, 3], [4, 5, 6])"
   ]
  },
  {
   "cell_type": "markdown",
   "metadata": {},
   "source": [
    "and we can compute the covariance matrix between two arrays:"
   ]
  },
  {
   "cell_type": "code",
   "execution_count": null,
   "metadata": {},
   "outputs": [],
   "source": [
    "np.cov([1, 2, 3], [4, 5, 6])"
   ]
  },
  {
   "cell_type": "markdown",
   "metadata": {},
   "source": [
    "# Matplotlib\n",
    "\n",
    "Matplotlib is Python's plotting library. We will introduce some basic concepts and plotting methods."
   ]
  },
  {
   "cell_type": "code",
   "execution_count": null,
   "metadata": {},
   "outputs": [],
   "source": [
    "import matplotlib.pyplot as plt"
   ]
  },
  {
   "cell_type": "markdown",
   "metadata": {},
   "source": [
    "## A simple figure"
   ]
  },
  {
   "cell_type": "markdown",
   "metadata": {},
   "source": [
    "We create a simple figure that plots the function $sin(x) + sin(3x)/3$:"
   ]
  },
  {
   "cell_type": "code",
   "execution_count": null,
   "metadata": {},
   "outputs": [],
   "source": [
    "x = np.linspace(-np.pi, np.pi, 101)  # create some x values\n",
    "y = np.sin(x) + np.sin(3*x)/3.0      # compute function values for all x\n",
    "\n",
    "plt.plot(x, y)               # plot the line\n",
    "plt.xlabel('x')              # put a label on the x-axis\n",
    "plt.ylabel('y')              # put a label on the y-axis\n",
    "plt.title('A simple plot')   # put a title on the plot"
   ]
  },
  {
   "cell_type": "markdown",
   "metadata": {},
   "source": [
    "That was easy. The actual plotting function only takes a single line of code. \n",
    "\n",
    "Note that Matplotlib plots values, not functions: you always have to provide a set of x and y coordinates to the plotting routine. If you would like to plot a function, you first have to generate x and y values (as shown above).\n",
    "\n",
    "If you are only interested in plotting very simple plots like the one shown above, we can stop here. If you would like to learn how to customize your plots and how to plot more complex things than just a line, please read on."
   ]
  },
  {
   "cell_type": "markdown",
   "metadata": {},
   "source": [
    "## Object-orientied Matplotlib"
   ]
  },
  {
   "cell_type": "markdown",
   "metadata": {},
   "source": [
    "Matplotlib provides an object-oriented approach, which we will introduce in the following. The formalism that we used above (`plt.plot()`) is actually just a wrapped around this object-oriented approach.\n",
    "\n",
    "Let's start by creating a Figure with two Axes objects:"
   ]
  },
  {
   "cell_type": "code",
   "execution_count": null,
   "metadata": {},
   "outputs": [],
   "source": [
    "fig, ax = plt.subplots(1, 2)"
   ]
  },
  {
   "cell_type": "markdown",
   "metadata": {},
   "source": [
    "A Figure is like the frame of your plot. Everything you would like to include in your plot (even separate panels), must be part of a Figure.\n",
    "\n",
    "An Axes object is the canvas on which you can plot, draw and write. You can think of each panel of a composite plot as its own Axes object.\n",
    "\n",
    "In this specific case, we created two Axes objects:"
   ]
  },
  {
   "cell_type": "code",
   "execution_count": null,
   "metadata": {},
   "outputs": [],
   "source": [
    "ax.shape"
   ]
  },
  {
   "cell_type": "markdown",
   "metadata": {},
   "source": [
    "We can now recreate the same plot from above in an object-oriented way:"
   ]
  },
  {
   "cell_type": "code",
   "execution_count": null,
   "metadata": {},
   "outputs": [],
   "source": [
    "fig, ax = plt.subplots()\n",
    "ax.plot(x, y)\n",
    "ax.set_xlabel('x')\n",
    "ax.set_ylabel('y')\n",
    "ax.set_title('A simple plot')"
   ]
  },
  {
   "cell_type": "markdown",
   "metadata": {},
   "source": [
    "## Customizing plots\n",
    "\n",
    "Now that we introduced object-oriented plotting, you will learn how to customize you plot. There are myriads of ways to do so. \n"
   ]
  },
  {
   "cell_type": "markdown",
   "metadata": {},
   "source": [
    "### Axis range and scaling"
   ]
  },
  {
   "cell_type": "markdown",
   "metadata": {},
   "source": [
    "We can easily set the range on the x-axis:"
   ]
  },
  {
   "cell_type": "code",
   "execution_count": null,
   "metadata": {},
   "outputs": [],
   "source": [
    "fig, ax = plt.subplots()\n",
    "ax.plot(x, y)\n",
    "ax.set_xlabel('x')\n",
    "ax.set_ylabel('y')\n",
    "ax.set_title('A simple plot')\n",
    "\n",
    "ax.set_xlim(-2, 2)"
   ]
  },
  {
   "cell_type": "markdown",
   "metadata": {},
   "source": [
    "We can also use a logarithmic scaling for the y-axis:"
   ]
  },
  {
   "cell_type": "code",
   "execution_count": null,
   "metadata": {},
   "outputs": [],
   "source": [
    "fig, ax = plt.subplots()\n",
    "ax.plot(x, y)\n",
    "ax.set_xlabel('x')\n",
    "ax.set_ylabel('y')\n",
    "ax.set_title('A simple plot')\n",
    "\n",
    "ax.set_yscale('log')"
   ]
  },
  {
   "cell_type": "markdown",
   "metadata": {},
   "source": [
    "(of course, both methods also apply to the opposite axis)"
   ]
  },
  {
   "cell_type": "markdown",
   "metadata": {},
   "source": [
    "### Ticks"
   ]
  },
  {
   "cell_type": "markdown",
   "metadata": {},
   "source": [
    "We can customize ticks and tick labels:"
   ]
  },
  {
   "cell_type": "code",
   "execution_count": null,
   "metadata": {},
   "outputs": [],
   "source": [
    "months = [1, 4, 7, 9, 10, 12]\n",
    "temp = [-3, 12, 23, 19, 8, 2]\n",
    "\n",
    "fig, ax = plt.subplots()\n",
    "ax.plot(months, temp)\n",
    "ax.set_xticks(months)\n",
    "ax.set_xticklabels(['Jan', 'Apr', 'Jul', 'Sep', 'Oct', 'Dec'])\n",
    "ax.set_xlabel('Month')\n",
    "ax.set_ylabel('Temperature (C)')"
   ]
  },
  {
   "cell_type": "markdown",
   "metadata": {},
   "source": [
    "### Legend"
   ]
  },
  {
   "cell_type": "markdown",
   "metadata": {},
   "source": [
    "Labeling different curves in a plot provides better readibility:"
   ]
  },
  {
   "cell_type": "code",
   "execution_count": null,
   "metadata": {},
   "outputs": [],
   "source": [
    "fig, ax = plt.subplots()\n",
    "ax.plot(x, y, label='first dataset')\n",
    "ax.plot(x, y+1, label='second dataset')\n",
    "ax.set_xlabel('x')\n",
    "ax.set_ylabel('y')\n",
    "fig.legend(loc='upper left')"
   ]
  },
  {
   "cell_type": "markdown",
   "metadata": {},
   "source": [
    "### Transparency"
   ]
  },
  {
   "cell_type": "markdown",
   "metadata": {},
   "source": [
    "We can also use transparency to create semi-transparent lines or symbols:"
   ]
  },
  {
   "cell_type": "code",
   "execution_count": null,
   "metadata": {},
   "outputs": [],
   "source": [
    "fig, ax = plt.subplots()\n",
    "ax.scatter(np.random.rand(300), np.random.rand(300), alpha=0.2)"
   ]
  },
  {
   "cell_type": "markdown",
   "metadata": {},
   "source": [
    "### Text and annotations"
   ]
  },
  {
   "cell_type": "markdown",
   "metadata": {},
   "source": [
    "We can also add text into our plot:"
   ]
  },
  {
   "cell_type": "code",
   "execution_count": null,
   "metadata": {},
   "outputs": [],
   "source": [
    "fig, ax = plt.subplots()\n",
    "ax.plot(x, y)\n",
    "ax.set_xlabel('x')\n",
    "ax.set_ylabel('y')\n",
    "ax.set_title('A simple plot')\n",
    "\n",
    "ax.text(0.5, -0.5, 'this is a large\\ntext label', fontsize=18)"
   ]
  },
  {
   "cell_type": "markdown",
   "metadata": {},
   "source": [
    "... and annotate positions with arrows:"
   ]
  },
  {
   "cell_type": "code",
   "execution_count": null,
   "metadata": {},
   "outputs": [],
   "source": [
    "x = np.linspace(0, 2, 101)\n",
    "y = (x-1)**3 + 1\n",
    "\n",
    "fig, ax = plt.subplots()\n",
    "ax.plot(x, y)\n",
    "ax.text(1.25, 1.75, r'$f(x)=(x-1)^3+1$')\n",
    "ax.annotate('point of inflection at x=1', xy=(1,1),\n",
    "               xytext=(0.8,0.5), horizontalalignment='center',\n",
    "               arrowprops=dict(facecolor='black',width=1, shrink=0.05))"
   ]
  },
  {
   "cell_type": "markdown",
   "metadata": {},
   "source": [
    "### Color maps and color bars"
   ]
  },
  {
   "cell_type": "markdown",
   "metadata": {},
   "source": [
    "Matplotlib provides a range of colors and colormaps. Colormaps are used to encode additional information into the color of your symbols:"
   ]
  },
  {
   "cell_type": "code",
   "execution_count": null,
   "metadata": {},
   "outputs": [],
   "source": [
    "x = np.linspace(-3, 3, 101)\n",
    "y = x**3\n",
    "r = np.sqrt(x**2 + y**2)  # Euclidean distance\n",
    "\n",
    "fig, ax = plt.subplots()\n",
    "ax.scatter(x, y, c=r)\n",
    "ax.set_xlabel('x')\n",
    "ax.set_ylabel('y')"
   ]
  },
  {
   "cell_type": "markdown",
   "metadata": {},
   "source": [
    "Here we have a more complex example involving a 3d surface and plotting a colorbar:"
   ]
  },
  {
   "cell_type": "code",
   "execution_count": null,
   "metadata": {},
   "outputs": [],
   "source": [
    "xx, yy = np.mgrid[-2:2:101j, -2:2:101j]\n",
    "zz = np.exp(-2*xx**2-yy**2)*np.cos(2*xx)*np.cos(3*yy)\n",
    "\n",
    "fig, ax = plt.subplots(subplot_kw={'projection':'3d'})\n",
    "surf = ax.plot_surface(xx, yy, zz, cmap=plt.get_cmap('viridis'), linewidth=0)\n",
    "cbar = plt.colorbar(surf, label='Height')\n",
    "ax.set_xlim3d(-2.0, 2.0)\n",
    "ax.set_ylim3d(-2.0, 2.0)\n",
    "ax.set_zlim3d(-0.5, 1.0)\n",
    "ax.set_xlabel('x')\n",
    "ax.set_ylabel('y')\n",
    "ax.set_zlabel('z')\n",
    "ax.elev, ax.azim = 10, 30"
   ]
  },
  {
   "cell_type": "markdown",
   "metadata": {},
   "source": [
    "## Cartesian plots\n",
    "\n",
    "Many common plots can be plotted in cartesian coordinates. We showcase a selection here:"
   ]
  },
  {
   "cell_type": "markdown",
   "metadata": {},
   "source": [
    "### Line plots"
   ]
  },
  {
   "cell_type": "markdown",
   "metadata": {},
   "source": [
    "we create some data:"
   ]
  },
  {
   "cell_type": "code",
   "execution_count": null,
   "metadata": {},
   "outputs": [],
   "source": [
    "x = np.linspace(0, 10, 100)\n",
    "y = np.sin(x)\n",
    "z = np.cos(x)"
   ]
  },
  {
   "cell_type": "markdown",
   "metadata": {},
   "source": [
    "we plot both `y` and `z` on the same axis:"
   ]
  },
  {
   "cell_type": "code",
   "execution_count": null,
   "metadata": {},
   "outputs": [],
   "source": [
    "f, ax = plt.subplots()\n",
    "ax.plot(x, y)\n",
    "ax.plot(x, z)"
   ]
  },
  {
   "cell_type": "markdown",
   "metadata": {},
   "source": [
    "we can define line colors:"
   ]
  },
  {
   "cell_type": "code",
   "execution_count": null,
   "metadata": {},
   "outputs": [],
   "source": [
    "f, ax = plt.subplots()\n",
    "ax.plot(x, y, color='red')\n",
    "ax.plot(x, z, color='green')"
   ]
  },
  {
   "cell_type": "markdown",
   "metadata": {},
   "source": [
    "we can define line styles and line widths:"
   ]
  },
  {
   "cell_type": "code",
   "execution_count": null,
   "metadata": {},
   "outputs": [],
   "source": [
    "f, ax = plt.subplots()\n",
    "ax.plot(x, y, linestyle='dotted')\n",
    "ax.plot(x, z, linewidth=10)"
   ]
  },
  {
   "cell_type": "markdown",
   "metadata": {},
   "source": [
    "we can combine different customizations:"
   ]
  },
  {
   "cell_type": "code",
   "execution_count": null,
   "metadata": {},
   "outputs": [],
   "source": [
    "fig, ax = plt.subplots()\n",
    "ax.plot(x, y, color='magenta', linestyle='dashdot', linewidth=4)"
   ]
  },
  {
   "cell_type": "markdown",
   "metadata": {},
   "source": [
    "### Scatter plots"
   ]
  },
  {
   "cell_type": "markdown",
   "metadata": {},
   "source": [
    "a simple scatter plot showing 3 clusters:"
   ]
  },
  {
   "cell_type": "code",
   "execution_count": null,
   "metadata": {},
   "outputs": [],
   "source": [
    "np.random.seed(42)\n",
    "\n",
    "fig, ax = plt.subplots()\n",
    "\n",
    "for i in range(3):\n",
    "    x = np.random.normal(loc=[3, 0, 1][i],\n",
    "                         scale=[0.5, 1, 0.2][i], size=20)\n",
    "    y = np.random.normal(loc=[2, 1, 3][i],\n",
    "                         scale=[0.5, 1, 0.2][i], size=20)\n",
    "    ax.scatter(x, y, marker=['o', 's', '^'][i], s=20,\n",
    "               color=['black', 'grey', 'lightgrey'][i],\n",
    "               label=i)\n",
    "ax.set_xlabel('x')\n",
    "ax.set_ylabel('y')\n",
    "ax.legend(loc=4)"
   ]
  },
  {
   "cell_type": "markdown",
   "metadata": {},
   "source": [
    "### Error bars"
   ]
  },
  {
   "cell_type": "markdown",
   "metadata": {},
   "source": [
    "we can visualize errors or uncertainties with error bars:"
   ]
  },
  {
   "cell_type": "code",
   "execution_count": null,
   "metadata": {},
   "outputs": [],
   "source": [
    "np.random.seed(42)\n",
    "x = np.linspace(0, 4, 21)\n",
    "y = np.exp(-x)\n",
    "xe = 0.08*np.random.rand(len(x))\n",
    "ye = 0.1*np.random.rand(len(y))\n",
    "\n",
    "fig, ax = plt.subplots()\n",
    "ax.errorbar(x, y, xerr=xe, yerr=ye, marker='o', capsize=2, \n",
    "            color='black')"
   ]
  },
  {
   "cell_type": "markdown",
   "metadata": {},
   "source": [
    "### Plotting filled areas"
   ]
  },
  {
   "cell_type": "markdown",
   "metadata": {},
   "source": [
    "we can visualize the same errors or uncertainties also with filled areas:"
   ]
  },
  {
   "cell_type": "code",
   "execution_count": null,
   "metadata": {},
   "outputs": [],
   "source": [
    "fig, ax = plt.subplots()\n",
    "ax.fill_between(x, y+ye, y-ye, color='lightgrey')\n",
    "ax.plot(x, y, color='black')"
   ]
  },
  {
   "cell_type": "markdown",
   "metadata": {},
   "source": [
    "### Bar plots"
   ]
  },
  {
   "cell_type": "markdown",
   "metadata": {},
   "source": [
    "we can create a stacked bar plot:"
   ]
  },
  {
   "cell_type": "code",
   "execution_count": null,
   "metadata": {},
   "outputs": [],
   "source": [
    "np.random.seed(42)\n",
    "x1 = np.random.normal(loc=0, scale=2, size=1000)\n",
    "x2 = np.random.normal(loc=3, scale=1, size=2000)\n",
    "hist1, bins = np.histogram(x1, bins=np.linspace(-5, 10, 16))\n",
    "hist2, bins = np.histogram(x2, bins=np.linspace(-5, 10, 16))\n",
    "\n",
    "fig, ax = plt.subplots()\n",
    "ax.bar(bins[:-1], hist1, align='edge', width=0.8,\n",
    "       color='black')\n",
    "ax.bar(bins[:-1], hist2, bottom=hist1, align='edge', \n",
    "       width=0.8, color='grey')\n",
    "ax.set_xlabel('x')\n",
    "ax.set_ylabel('Frequency')"
   ]
  },
  {
   "cell_type": "markdown",
   "metadata": {},
   "source": [
    "## Plotting images"
   ]
  },
  {
   "cell_type": "markdown",
   "metadata": {},
   "source": [
    "We load an image from file (using the Python Image Library, Pillow) and look at its properties:"
   ]
  },
  {
   "cell_type": "code",
   "execution_count": null,
   "metadata": {},
   "outputs": [],
   "source": [
    "from PIL import Image\n",
    "\n",
    "im = np.array(Image.open('racoon.png').convert('RGB'))  # read file and convert to RGB\n",
    "print(im.shape)\n",
    "print(np.min(im), np.max(im))"
   ]
  },
  {
   "cell_type": "markdown",
   "metadata": {},
   "source": [
    "we use imshow to display the image:"
   ]
  },
  {
   "cell_type": "code",
   "execution_count": null,
   "metadata": {},
   "outputs": [],
   "source": [
    "fig, ax = plt.subplots()\n",
    "ax.imshow(im)"
   ]
  },
  {
   "cell_type": "markdown",
   "metadata": {},
   "source": [
    "we extract the RGB values of a single pixel (mind the notation: image coordinates are provided in rows, columns):"
   ]
  },
  {
   "cell_type": "code",
   "execution_count": null,
   "metadata": {},
   "outputs": [],
   "source": [
    "im[200, 100]"
   ]
  },
  {
   "cell_type": "markdown",
   "metadata": {},
   "source": [
    "You see that the green value for this pixel is very high. Where is it located?\n",
    "\n",
    "We can extract individual color channels:"
   ]
  },
  {
   "cell_type": "code",
   "execution_count": null,
   "metadata": {},
   "outputs": [],
   "source": [
    "r = im[:,:,0]\n",
    "g = im[:,:,1]\n",
    "b = im[:,:,2]"
   ]
  },
  {
   "cell_type": "markdown",
   "metadata": {},
   "source": [
    "we can combine individual channels into a RGB image:"
   ]
  },
  {
   "cell_type": "code",
   "execution_count": null,
   "metadata": {},
   "outputs": [],
   "source": [
    "im2 = np.dstack([r, g, b])\n",
    "im2.shape"
   ]
  },
  {
   "cell_type": "markdown",
   "metadata": {},
   "source": [
    "Let's plot the individual color channels:"
   ]
  },
  {
   "cell_type": "code",
   "execution_count": null,
   "metadata": {},
   "outputs": [],
   "source": [
    "fig, ax = plt.subplots(3, 1)\n",
    "ax[0].imshow(r, cmap='Greys_r')\n",
    "ax[0].set_title('R')\n",
    "ax[1].imshow(g, cmap='Greys_r')\n",
    "ax[1].set_title('G')\n",
    "ax[2].imshow(b, cmap='Greys_r')\n",
    "ax[2].set_title('B')"
   ]
  },
  {
   "cell_type": "markdown",
   "metadata": {},
   "source": [
    "## Compound figures"
   ]
  },
  {
   "cell_type": "markdown",
   "metadata": {},
   "source": [
    "here we create a compound figure, consisting of 4 panels; note how each panel is addressed separately:"
   ]
  },
  {
   "cell_type": "code",
   "execution_count": null,
   "metadata": {},
   "outputs": [],
   "source": [
    "t = np.linspace(0,5,101)\n",
    "y1 = 1.0/(t+1.0)\n",
    "y2 = np.exp(-t)\n",
    "y3 = np.exp(-5*t**2)\n",
    "y4 = np.exp(-0.5*t**3)\n",
    "\n",
    "fig, ax = plt.subplots(2, 2, sharex=True, sharey=True)\n",
    "# top left axes\n",
    "ax[0, 0].plot(t, y1, color='grey')\n",
    "ax[0, 0].set_ylabel(r'$f(t)$')\n",
    "ax[0, 0].set_title(r'$1/(t+1)$', y=0.8)\n",
    "# top right axes\n",
    "ax[0, 1].plot(t, y2, color='grey')\n",
    "ax[0, 1].set_title(r'$\\exp(-t)$', y=0.8)\n",
    "# bottom left axes\n",
    "ax[1, 0].plot(t, y3, color='grey')\n",
    "ax[1, 0].set_xlabel(r'$t$')\n",
    "ax[1, 0].set_ylabel(r'$f(t)$')\n",
    "ax[1, 0].set_title(r'$\\exp(-5t^2)$', y=0.8)\n",
    "# bottom right axes\n",
    "ax[1, 1].plot(t, y4, color='grey')\n",
    "ax[1, 1].set_xlabel(r'$t$')\n",
    "ax[1, 1].set_title(r'$\\exp(-0.5t^3)$', y=0.8)\n",
    "fig.subplots_adjust(hspace=0.1, wspace=0.1)\n",
    "fig.tight_layout()"
   ]
  },
  {
   "cell_type": "code",
   "execution_count": null,
   "metadata": {},
   "outputs": [],
   "source": []
  }
 ],
 "metadata": {
  "kernelspec": {
   "display_name": "Python 3.7.9 ('base')",
   "language": "python",
   "name": "python3"
  },
  "language_info": {
   "codemirror_mode": {
    "name": "ipython",
    "version": 3
   },
   "file_extension": ".py",
   "mimetype": "text/x-python",
   "name": "python",
   "nbconvert_exporter": "python",
   "pygments_lexer": "ipython3",
   "version": "3.11.5"
  },
  "orig_nbformat": 4,
  "vscode": {
   "interpreter": {
    "hash": "8a759edab9623fec557173fc5dc3172aac588fd51e2e191f985f3e24b521fb85"
   }
  }
 },
 "nbformat": 4,
 "nbformat_minor": 2
}
